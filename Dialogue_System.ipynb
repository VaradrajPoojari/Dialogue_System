{
 "cells": [
  {
   "cell_type": "code",
   "execution_count": 1,
   "metadata": {
    "colab": {
     "base_uri": "https://localhost:8080/"
    },
    "id": "7PdwH6Z-AvzI",
    "outputId": "3435876c-4fc9-4a9f-af91-3953d9829089"
   },
   "outputs": [
    {
     "name": "stdout",
     "output_type": "stream",
     "text": [
      "1.11.0+cu113\n",
      "GPU 0: Tesla P100-PCIE-16GB (UUID: GPU-475a1ac1-caa8-dfdc-a3c5-d2e6ae21d7a9)\n"
     ]
    }
   ],
   "source": [
    "import torch\n",
    "print(torch.__version__)\n",
    "!nvidia-smi -L  "
   ]
  },
  {
   "cell_type": "code",
   "execution_count": 2,
   "metadata": {
    "colab": {
     "base_uri": "https://localhost:8080/"
    },
    "id": "AunXnFCmE_tc",
    "outputId": "ec468111-f680-4050-e76e-c4ad0f750095"
   },
   "outputs": [
    {
     "name": "stdout",
     "output_type": "stream",
     "text": [
      "Requirement already satisfied: transformers in /usr/local/lib/python3.7/dist-packages (4.18.0)\n",
      "Requirement already satisfied: filelock in /usr/local/lib/python3.7/dist-packages (from transformers) (3.6.0)\n",
      "Requirement already satisfied: regex!=2019.12.17 in /usr/local/lib/python3.7/dist-packages (from transformers) (2019.12.20)\n",
      "Requirement already satisfied: sacremoses in /usr/local/lib/python3.7/dist-packages (from transformers) (0.0.49)\n",
      "Requirement already satisfied: requests in /usr/local/lib/python3.7/dist-packages (from transformers) (2.23.0)\n",
      "Requirement already satisfied: packaging>=20.0 in /usr/local/lib/python3.7/dist-packages (from transformers) (21.3)\n",
      "Requirement already satisfied: numpy>=1.17 in /usr/local/lib/python3.7/dist-packages (from transformers) (1.21.6)\n",
      "Requirement already satisfied: importlib-metadata in /usr/local/lib/python3.7/dist-packages (from transformers) (4.11.3)\n",
      "Requirement already satisfied: tqdm>=4.27 in /usr/local/lib/python3.7/dist-packages (from transformers) (4.64.0)\n",
      "Requirement already satisfied: tokenizers!=0.11.3,<0.13,>=0.11.1 in /usr/local/lib/python3.7/dist-packages (from transformers) (0.12.1)\n",
      "Requirement already satisfied: huggingface-hub<1.0,>=0.1.0 in /usr/local/lib/python3.7/dist-packages (from transformers) (0.5.1)\n",
      "Requirement already satisfied: pyyaml>=5.1 in /usr/local/lib/python3.7/dist-packages (from transformers) (6.0)\n",
      "Requirement already satisfied: typing-extensions>=3.7.4.3 in /usr/local/lib/python3.7/dist-packages (from huggingface-hub<1.0,>=0.1.0->transformers) (4.2.0)\n",
      "Requirement already satisfied: pyparsing!=3.0.5,>=2.0.2 in /usr/local/lib/python3.7/dist-packages (from packaging>=20.0->transformers) (3.0.8)\n",
      "Requirement already satisfied: zipp>=0.5 in /usr/local/lib/python3.7/dist-packages (from importlib-metadata->transformers) (3.8.0)\n",
      "Requirement already satisfied: urllib3!=1.25.0,!=1.25.1,<1.26,>=1.21.1 in /usr/local/lib/python3.7/dist-packages (from requests->transformers) (1.24.3)\n",
      "Requirement already satisfied: chardet<4,>=3.0.2 in /usr/local/lib/python3.7/dist-packages (from requests->transformers) (3.0.4)\n",
      "Requirement already satisfied: idna<3,>=2.5 in /usr/local/lib/python3.7/dist-packages (from requests->transformers) (2.10)\n",
      "Requirement already satisfied: certifi>=2017.4.17 in /usr/local/lib/python3.7/dist-packages (from requests->transformers) (2021.10.8)\n",
      "Requirement already satisfied: six in /usr/local/lib/python3.7/dist-packages (from sacremoses->transformers) (1.15.0)\n",
      "Requirement already satisfied: click in /usr/local/lib/python3.7/dist-packages (from sacremoses->transformers) (7.1.2)\n",
      "Requirement already satisfied: joblib in /usr/local/lib/python3.7/dist-packages (from sacremoses->transformers) (1.1.0)\n",
      "Drive already mounted at /content/gdrive; to attempt to forcibly remount, call drive.mount(\"/content/gdrive\", force_remount=True).\n"
     ]
    }
   ],
   "source": [
    "!pip install transformers\n",
    "from google.colab import drive\n",
    "drive.mount('/content/gdrive')"
   ]
  },
  {
   "cell_type": "code",
   "execution_count": 3,
   "metadata": {
    "id": "RWLN_-bYIZqM"
   },
   "outputs": [],
   "source": [
    "file_path = \"/content/gdrive/MyDrive/Colab Notebooks/563Lab4/\""
   ]
  },
  {
   "cell_type": "code",
   "execution_count": 4,
   "metadata": {
    "id": "uUDw1kw1I3o1"
   },
   "outputs": [],
   "source": [
    "import numpy as np\n",
    "import torch\n",
    "import torch.nn as nn\n",
    "import torch.nn.functional as F\n",
    "import torch.optim as optim\n",
    "from transformers import DistilBertTokenizer, DistilBertForQuestionAnswering, AdamW, get_linear_schedule_with_warmup\n",
    "from torch.utils.data import Dataset, DataLoader\n",
    "from sklearn.metrics import accuracy_score"
   ]
  },
  {
   "cell_type": "code",
   "execution_count": 5,
   "metadata": {
    "colab": {
     "base_uri": "https://localhost:8080/"
    },
    "id": "KiV1RlQsI6Pb",
    "outputId": "636a4b81-d95e-4217-dcb4-5ab335f1b09b"
   },
   "outputs": [
    {
     "data": {
      "text/plain": [
       "{'find_hotel': defaultdict(set, {}), 'find_restaurant': defaultdict(set, {})}"
      ]
     },
     "execution_count": 5,
     "metadata": {},
     "output_type": "execute_result"
    }
   ],
   "source": [
    "from collections import defaultdict\n",
    "intent_dic = {'find_restaurant':defaultdict(set), 'find_hotel':defaultdict(set)}\n",
    "intent_dic"
   ]
  },
  {
   "cell_type": "code",
   "execution_count": 6,
   "metadata": {
    "colab": {
     "base_uri": "https://localhost:8080/"
    },
    "id": "R3mgViRoJCkD",
    "outputId": "f1477bbd-0c09-4991-93be-cf64e896e8aa"
   },
   "outputs": [
    {
     "data": {
      "text/plain": [
       "{'find_hotel': defaultdict(set,\n",
       "             {'hotel-area': {'centre',\n",
       "               'dontcare',\n",
       "               'east',\n",
       "               'north',\n",
       "               'south',\n",
       "               'west'},\n",
       "              'hotel-internet': {'dontcare', 'no', 'yes'},\n",
       "              'hotel-name': {'a and b guest house',\n",
       "               'a and b quest house',\n",
       "               'acorn guest house',\n",
       "               'alexander bed and breakfast',\n",
       "               'alexeander b&b',\n",
       "               'allenbell',\n",
       "               'alpha milton guest house',\n",
       "               'alpha-milton guest house',\n",
       "               'alyesbray lodge guest house',\n",
       "               'arbury guesthouse and lodge',\n",
       "               'arbury lodge',\n",
       "               'arbury lodge guesthouse',\n",
       "               'archway house',\n",
       "               'ashley hotel',\n",
       "               'autumn house',\n",
       "               'avalon',\n",
       "               'aylesbray lodge guest house',\n",
       "               'b guesthouse',\n",
       "               'bridge guest house',\n",
       "               'cambridge belfry',\n",
       "               'carolina b&b',\n",
       "               'carolina bed and breakfast',\n",
       "               'city centre north b and b',\n",
       "               'cityroomz',\n",
       "               'dontcare',\n",
       "               'el shaddai',\n",
       "               'express by holiday inn',\n",
       "               'express by holiday inn - cambridge',\n",
       "               'express by holiday inn cambridge',\n",
       "               'express by holiday inn in cambridge',\n",
       "               'finches',\n",
       "               'finches bed and breakfast',\n",
       "               'gonville',\n",
       "               'gonville hotel',\n",
       "               'hamilton lodge',\n",
       "               'hobsons house',\n",
       "               'home from home',\n",
       "               'huntingdon marriott hotel',\n",
       "               'kirkwood',\n",
       "               'kirkwood house',\n",
       "               'lensfield hotel',\n",
       "               'leverton house',\n",
       "               'limehouse',\n",
       "               'lovell lodge',\n",
       "               'rosas bed and breakfast',\n",
       "               'university arms hotel',\n",
       "               'warkworth house',\n",
       "               'worth house'},\n",
       "              'hotel-parking': {'dontcare', 'no', 'yes'},\n",
       "              'hotel-pricerange': {'cheap',\n",
       "               'dontcare',\n",
       "               'expensive',\n",
       "               'moderate'},\n",
       "              'hotel-stars': {'0', '1', '2', '3', '4', '5', 'dontcare'},\n",
       "              'hotel-type': {'dontcare', 'guesthouse'}}),\n",
       " 'find_restaurant': defaultdict(set,\n",
       "             {'restaurant-area': {'centre',\n",
       "               'dontcare',\n",
       "               'east',\n",
       "               'north',\n",
       "               'south',\n",
       "               'west'},\n",
       "              'restaurant-food': {'afghan',\n",
       "               'african',\n",
       "               'afternoon tea',\n",
       "               'americas',\n",
       "               'asian',\n",
       "               'asian oriental',\n",
       "               'australasian',\n",
       "               'australian',\n",
       "               'austrian',\n",
       "               'barbeque',\n",
       "               'basque',\n",
       "               'bbq',\n",
       "               'belgian',\n",
       "               'bistro',\n",
       "               'brazilian',\n",
       "               'british',\n",
       "               'canapes',\n",
       "               'cantonese',\n",
       "               'caribbean',\n",
       "               'catalan',\n",
       "               'chines',\n",
       "               'chinese',\n",
       "               'christmas',\n",
       "               'corsica',\n",
       "               'creative',\n",
       "               'crossover',\n",
       "               'cuban',\n",
       "               'danish',\n",
       "               'dontcare',\n",
       "               'english',\n",
       "               'eritrean',\n",
       "               'european',\n",
       "               'french',\n",
       "               'fusion',\n",
       "               'gastropub',\n",
       "               'german',\n",
       "               'global',\n",
       "               'greek',\n",
       "               'halal',\n",
       "               'hungarian',\n",
       "               'indian',\n",
       "               'indonesian',\n",
       "               'international',\n",
       "               'irish',\n",
       "               'italian',\n",
       "               'jamaican',\n",
       "               'japanese',\n",
       "               'korean',\n",
       "               'kosher',\n",
       "               'latin american',\n",
       "               'lebanese',\n",
       "               'light bites',\n",
       "               'malaysian',\n",
       "               'mediterranean',\n",
       "               'mexican',\n",
       "               'middle eastern',\n",
       "               'modern',\n",
       "               'modern american',\n",
       "               'modern eclectic',\n",
       "               'modern european',\n",
       "               'modern global',\n",
       "               'molecular gastronomy',\n",
       "               'moroccan',\n",
       "               'morrocan',\n",
       "               'muslim',\n",
       "               'new zealand',\n",
       "               'north african',\n",
       "               'north american',\n",
       "               'north indian',\n",
       "               'northern european',\n",
       "               'panasian',\n",
       "               'persian',\n",
       "               'pizza',\n",
       "               'polish',\n",
       "               'polynesian',\n",
       "               'portuguese',\n",
       "               'romanian',\n",
       "               'russian',\n",
       "               'scandinavian',\n",
       "               'scottish',\n",
       "               'seafood',\n",
       "               'singapore',\n",
       "               'singaporean',\n",
       "               'south indian',\n",
       "               'spanish',\n",
       "               'sri lankan',\n",
       "               'steakhouse',\n",
       "               'swedish',\n",
       "               'swiss',\n",
       "               'thai',\n",
       "               'the americas',\n",
       "               'traditional',\n",
       "               'turkish',\n",
       "               'tuscan',\n",
       "               'unusual',\n",
       "               'vegetarian',\n",
       "               'venetian',\n",
       "               'vietnamese',\n",
       "               'welsh',\n",
       "               'world'},\n",
       "              'restaurant-name': {'ali baba',\n",
       "               'anatolia',\n",
       "               'ask',\n",
       "               'backstreet bistro',\n",
       "               'bangkok city',\n",
       "               'bedouin',\n",
       "               'bloomsbury restaurant',\n",
       "               'cafe uno',\n",
       "               'cambridge chop house',\n",
       "               'cambridge lodge restaurant',\n",
       "               'charlie chan',\n",
       "               'chiquito restaurant bar',\n",
       "               'city stop restaurant',\n",
       "               'clowns cafe',\n",
       "               'cocum',\n",
       "               'copper kettle',\n",
       "               'cote',\n",
       "               'cotto',\n",
       "               'cow pizza kitchen and bar',\n",
       "               'curry garden',\n",
       "               'curry king',\n",
       "               'curry prince',\n",
       "               'curry queen',\n",
       "               'da vinci pizzeria',\n",
       "               'darrys cookhouse and wine shop',\n",
       "               'de luca cucina and bar',\n",
       "               'dojo noodle bar',\n",
       "               'dontcare',\n",
       "               'efes restaurant',\n",
       "               'eraina',\n",
       "               'fitzbillies restaurant',\n",
       "               'frankie and bennys',\n",
       "               'galleria',\n",
       "               'golden curry',\n",
       "               'golden house',\n",
       "               'golden wok',\n",
       "               'good luck',\n",
       "               'gourmet burger kitchen',\n",
       "               'graffiti',\n",
       "               'grafton hotel restaurant',\n",
       "               'hakka',\n",
       "               'hk fusion',\n",
       "               'hotel du vin and bistro',\n",
       "               'ian hong house',\n",
       "               'india house',\n",
       "               'j restaurant',\n",
       "               'jinling noodle bar',\n",
       "               'kohinoor',\n",
       "               'kymmoy',\n",
       "               'la margherita',\n",
       "               'la raza',\n",
       "               'la tasca',\n",
       "               'lan hong house',\n",
       "               'little seoul',\n",
       "               'loch fyne',\n",
       "               'luca cucina and bar',\n",
       "               'mahal of cambridge',\n",
       "               'maharajah tandoori restaurant',\n",
       "               'meghna',\n",
       "               'meze bar',\n",
       "               'michaelhouse cafe',\n",
       "               'nandos',\n",
       "               'nandos city centre',\n",
       "               'nirala',\n",
       "               'panahar',\n",
       "               'pasquale pizzeria',\n",
       "               'peking restaurant',\n",
       "               'pipasha restaurant',\n",
       "               'pizza express',\n",
       "               'pizza express fen ditton',\n",
       "               'pizza hut city centre',\n",
       "               'pizza hut fenditton',\n",
       "               'prezzo',\n",
       "               'rajmahal',\n",
       "               'restaurant one seven',\n",
       "               'restaurant two two',\n",
       "               'rice boat',\n",
       "               'rice house',\n",
       "               'river bar steakhouse and grill',\n",
       "               'riverside brasserie',\n",
       "               'royal spice',\n",
       "               'royal standard',\n",
       "               'saffron brasserie',\n",
       "               'saigon city',\n",
       "               'saint johns chop house',\n",
       "               'sala thong',\n",
       "               'shanghai family restaurant',\n",
       "               'shiraz',\n",
       "               'sitar tandoori',\n",
       "               'slug and lettuce',\n",
       "               'stazione restaurant and coffee bar',\n",
       "               'taj tandoori',\n",
       "               'tandoori palace',\n",
       "               'tang chinese',\n",
       "               'thanh binh',\n",
       "               'the cow pizza kitchen and bar',\n",
       "               'the gandhi',\n",
       "               'the gardenia',\n",
       "               'the hotpot',\n",
       "               'the lucky star',\n",
       "               'the missing sock',\n",
       "               'the oak bistro',\n",
       "               'the slug and lettuce',\n",
       "               'the varsity restaurant',\n",
       "               'travellers rest',\n",
       "               'wagamama',\n",
       "               'yippee noodle bar',\n",
       "               'yu garden'},\n",
       "              'restaurant-pricerange': {'cheap',\n",
       "               'dontcare',\n",
       "               'expensive',\n",
       "               'moderate'}})}"
      ]
     },
     "execution_count": 6,
     "metadata": {},
     "output_type": "execute_result"
    }
   ],
   "source": [
    "res_names_context = []\n",
    "res_names_answers = []\n",
    "hotel_names_context = []\n",
    "hotel_names_answers = []\n",
    "food_names_context = []\n",
    "food_names_answer = []\n",
    "\n",
    "with open(file_path + \"WOZ_train_utt.txt\") as f1:\n",
    "  with open(file_path + \"WOZ_train_ans.txt\") as f2:\n",
    "    utterances = f1.readlines()\n",
    "    for i,line in enumerate(f2.readlines()):\n",
    "        a_line = line.strip()\n",
    "        ans = a_line.split('|')\n",
    "        intent = ans[0]\n",
    "        for a in ans[1:]:\n",
    "            if 'restaurant-name' == a.split('=')[0]:\n",
    "                res_names_context.append(utterances[i].strip())\n",
    "                res_names_answers.append(a.split('=')[1])\n",
    "            if 'restaurant-food' == a.split('=')[0]:\n",
    "                food_names_context.append(utterances[i].strip())\n",
    "                food_names_answer.append(a.split('=')[1])\n",
    "            if 'hotel-name' == a.split('=')[0]:\n",
    "                hotel_names_context.append(utterances[i].strip())\n",
    "                hotel_names_answers.append(a.split('=')[1])\n",
    "            intent_dic[intent][a.split('=')[0]].add(a.split('=')[1])\n",
    "            \n",
    "intent_dic"
   ]
  },
  {
   "cell_type": "code",
   "execution_count": 6,
   "metadata": {
    "id": "JB2q2rkoWbrW"
   },
   "outputs": [],
   "source": []
  },
  {
   "cell_type": "markdown",
   "metadata": {
    "id": "lmcJbNHeWcAC"
   },
   "source": [
    "**REST. NAME, FOOD NAME, HOTEL NAME classification**"
   ]
  },
  {
   "cell_type": "code",
   "execution_count": 7,
   "metadata": {
    "colab": {
     "base_uri": "https://localhost:8080/"
    },
    "id": "sQKJCoT1JJRT",
    "outputId": "7789aade-d480-44b7-d62a-df6ea5c02c9c"
   },
   "outputs": [
    {
     "data": {
      "text/plain": [
       "['I am looking for a restaurant. I would like something cheap that has Chinese food.',\n",
       " 'Yeah, could you recommend a good gastropub?',\n",
       " 'I want to find an expensive restaurant and serves european food. Can i also have the address, phone number and its area. ?',\n",
       " \"Where's a good place to eat crossover food in Cambridge?\"]"
      ]
     },
     "execution_count": 7,
     "metadata": {},
     "output_type": "execute_result"
    }
   ],
   "source": [
    "food_names_context[:4]\n"
   ]
  },
  {
   "cell_type": "code",
   "execution_count": 8,
   "metadata": {
    "colab": {
     "base_uri": "https://localhost:8080/"
    },
    "id": "O8eDlqMaL5eo",
    "outputId": "60241766-3f3c-4373-e612-4aadeae28583"
   },
   "outputs": [
    {
     "data": {
      "text/plain": [
       "['chinese', 'gastropub', 'european', 'crossover']"
      ]
     },
     "execution_count": 8,
     "metadata": {},
     "output_type": "execute_result"
    }
   ],
   "source": [
    "food_names_answer[:4]"
   ]
  },
  {
   "cell_type": "code",
   "execution_count": 9,
   "metadata": {
    "id": "4ygdT3pPL9Oe"
   },
   "outputs": [],
   "source": [
    "from transformers import AutoTokenizer\n",
    "tokenizer = AutoTokenizer.from_pretrained(\"distilbert-base-uncased\")"
   ]
  },
  {
   "cell_type": "code",
   "execution_count": 10,
   "metadata": {
    "id": "9plE_fzBMTmg"
   },
   "outputs": [],
   "source": [
    "def get_answer_span_tensor(question,context,answer):\n",
    "    ques = (tokenizer.tokenize(question))\n",
    "    # print(ques)\n",
    "    context = (tokenizer.tokenize(context))\n",
    "    # print(context)\n",
    "    answer = (tokenizer.tokenize(answer))\n",
    "    # print(answer)\n",
    "    s = [\"[CLS]\"] + ques + [\"[SEP]\"] + context + [\"[SEP]\"]\n",
    "    # print(s)\n",
    "    start, end = 0, 0\n",
    "    for id_a, token_a in enumerate(answer):\n",
    "      for id_s, token_s in enumerate(s):\n",
    "        if token_a == token_s:\n",
    "          if answer == s[id_s:id_s+len(answer)]:\n",
    "            start = id_s\n",
    "            end = id_s + len(answer) - 1\n",
    "            break\n",
    "          elif len(s) - id_s + 1 <= len(answer):\n",
    "            break\n",
    "    return torch.tensor([start, end])"
   ]
  },
  {
   "cell_type": "code",
   "execution_count": 11,
   "metadata": {
    "colab": {
     "base_uri": "https://localhost:8080/"
    },
    "id": "R8G9WbeaNCAl",
    "outputId": "854cd355-f40a-43be-f81d-f1dbd613939a"
   },
   "outputs": [
    {
     "name": "stdout",
     "output_type": "stream",
     "text": [
      "Success!\n"
     ]
    }
   ],
   "source": [
    "test_question = \"what food?\"\n",
    "test_context = \"I am looking for a restaurant. I would like something cheap that has Chinese food.\"\n",
    "test_answer = \"chinese\"\n",
    "bad_answer  = \"indian\"\n",
    "span = get_answer_span_tensor(test_question,test_context,test_answer)\n",
    "# print(span)\n",
    "assert span.shape == (2,)\n",
    "assert list(span) == [19,19]\n",
    "span = get_answer_span_tensor(test_question,test_context,bad_answer)\n",
    "assert list(span) == [0,0]\n",
    "print('Success!')"
   ]
  },
  {
   "cell_type": "code",
   "execution_count": 12,
   "metadata": {
    "id": "oPK4qB6zNFPc"
   },
   "outputs": [],
   "source": [
    "def convert_to_BERT_tensors(questions, contexts):\n",
    "    '''takes a parallel list of question strings and answer strings'''\n",
    "    #your code here\n",
    "    result = tokenizer(questions,contexts,  return_tensors=\"pt\", padding='max_length', truncation=True,  max_length=512)\n",
    "    return result['input_ids'], result['attention_mask']"
   ]
  },
  {
   "cell_type": "code",
   "execution_count": 13,
   "metadata": {
    "colab": {
     "base_uri": "https://localhost:8080/"
    },
    "id": "NBcH0hq2N7ZU",
    "outputId": "e69aa24f-7bff-4776-c528-1d89cb55258b"
   },
   "outputs": [
    {
     "name": "stdout",
     "output_type": "stream",
     "text": [
      "Success!\n"
     ]
    }
   ],
   "source": [
    "test_questions = [\"Why?\", \"How?\"]\n",
    "test_contexts = [\"I think it is because we can bluminate\", \"It was done\"\" \".join([\"very\"]*1000) + \" well\"]\n",
    "\n",
    "ids, mask = convert_to_BERT_tensors(test_questions,test_contexts)\n",
    "assert ids.shape == (2,512) # 512 because that's the max allowed\n",
    "assert ids[0][3] == 102 # fourth token is separator\n",
    "assert list(ids[0][-100:]) == [0]*100 # first row is mostly padding\n",
    "assert list(ids[1][-100:]) != [0]*100 # second row is not\n",
    "assert list(mask[0][-100:]) == [0]*100 # first row padding is masked\n",
    "assert list(mask[1][-100:]) != [0]*100 # second row is not padding, no mask\n",
    "print(\"Success!\")"
   ]
  },
  {
   "cell_type": "code",
   "execution_count": 14,
   "metadata": {
    "colab": {
     "base_uri": "https://localhost:8080/"
    },
    "id": "Boem2Zi-Prdp",
    "outputId": "77326e6d-3185-4f62-a4f9-f242fabf0ae5"
   },
   "outputs": [
    {
     "data": {
      "text/plain": [
       "[1, 2, 3, 4, 3, 3, 3, 3]"
      ]
     },
     "execution_count": 14,
     "metadata": {},
     "output_type": "execute_result"
    }
   ],
   "source": [
    "a = [1,2]\n",
    "b = [3,4]\n",
    "a.extend(b)\n",
    "a.extend([3]*4)\n",
    "a"
   ]
  },
  {
   "cell_type": "code",
   "execution_count": 15,
   "metadata": {
    "colab": {
     "base_uri": "https://localhost:8080/"
    },
    "id": "sqOfR1Y2OFdK",
    "outputId": "07aea858-7be2-447d-ef81-762865a1f5bb"
   },
   "outputs": [
    {
     "data": {
      "text/plain": [
       "1103"
      ]
     },
     "execution_count": 15,
     "metadata": {},
     "output_type": "execute_result"
    }
   ],
   "source": [
    "food_question = [\"What food?\"]*len(food_names_context)\n",
    "res_name_question = [\"Which restaurant\"]*len(res_names_context)\n",
    "hotel_name_question = [\"Which hotel\"]*len(hotel_names_context)\n",
    "\n",
    "len(food_names_context)"
   ]
  },
  {
   "cell_type": "code",
   "execution_count": 16,
   "metadata": {
    "id": "1vPbuaACOOHb"
   },
   "outputs": [],
   "source": [
    "#provided code\n",
    "batch_size = 16\n",
    "\n",
    "class QAdataset(Dataset):\n",
    "    '''A dataset for housing QA data, including input_data, output_data, and padding mask'''\n",
    "    def __init__(self, input_data, output_data,mask):\n",
    "        self.input_data = input_data\n",
    "        self.output_data = output_data\n",
    "        self.mask = mask\n",
    "        \n",
    "    def __len__(self):\n",
    "        return len(self.input_data)\n",
    "    \n",
    "    def __getitem__(self, index):\n",
    "        target = self.output_data[index]\n",
    "        data_val = self.input_data[index]\n",
    "        mask = self.mask[index]\n",
    "        return data_val,target,mask "
   ]
  },
  {
   "cell_type": "code",
   "execution_count": 17,
   "metadata": {
    "colab": {
     "base_uri": "https://localhost:8080/"
    },
    "id": "47FigJ1aObmJ",
    "outputId": "aa7089e6-bff5-48fb-f1ed-8ad31481a702"
   },
   "outputs": [
    {
     "name": "stdout",
     "output_type": "stream",
     "text": [
      "3760\n",
      "3760\n",
      "3760\n",
      "3760\n"
     ]
    }
   ],
   "source": [
    "\n",
    "##BUILDING TRAIN\n",
    "\n",
    "\n",
    "res_names_context = []\n",
    "res_names_answers = []\n",
    "hotel_names_context = []\n",
    "hotel_names_answers = []\n",
    "food_names_context = []\n",
    "food_names_answer = []\n",
    "all_context = []\n",
    "with open(file_path + \"WOZ_train_utt.txt\") as f1:\n",
    "  with open(file_path + \"WOZ_train_ans.txt\") as f2:\n",
    "    utterances = f1.readlines()\n",
    "    print(len(utterances))\n",
    "    for i,line in enumerate(f2.readlines()):\n",
    "        a_line = line.strip()\n",
    "        ans = a_line.split('|')\n",
    "        intent = ans[0]\n",
    "        # if(\"hotel\" not in intent):\n",
    "        #     continue\n",
    "        all_context.append(utterances[i].strip())\n",
    "        resName = 'XXNOANSWERXX'\n",
    "        foodName = 'XXNOANSWERXX'\n",
    "        hotelName = 'XXNOANSWERXX'\n",
    "\n",
    "        for a in ans[1:]:\n",
    "            if 'restaurant-name' == a.split('=')[0]:\n",
    "                resName = a.split('=')[1]\n",
    "                \n",
    "            if 'restaurant-food' == a.split('=')[0]:\n",
    "                foodName = a.split('=')[1]\n",
    "               \n",
    "            if 'hotel-name' == a.split('=')[0]:\n",
    "                hotelName = a.split('=')[1]\n",
    "                \n",
    "        res_names_answers.append(resName)\n",
    "        food_names_answer.append(foodName)\n",
    "        hotel_names_answers.append(hotelName)\n",
    "\n",
    "\n",
    "print(len(res_names_answers))\n",
    "print(len(food_names_answer))\n",
    "print(len(hotel_names_answers))\n",
    "questions = []\n",
    "contexts = []\n",
    "\n",
    "food_question = [\"What kind of food?\"]*len(food_names_answer)\n",
    "res_name_question = [\"Which restaurant\"]*len(res_names_answers)\n",
    "hotel_name_question = [\"Which hotel\"]*len(hotel_names_answers)\n",
    "\n",
    "contexts = all_context\n",
    "questions = food_question\n",
    "QA_input, masks = convert_to_BERT_tensors(questions, contexts)\n",
    "answers = food_names_answer\n",
    "spans = [get_answer_span_tensor(questions[i], contexts[i], answers[i]) for i in range(len(questions))]\n",
    "\n",
    "\n",
    "food_train_dataloader = DataLoader(QAdataset(QA_input, spans, masks), batch_size=batch_size, num_workers=4, shuffle=False)\n",
    "\n",
    "questions = res_name_question\n",
    "QA_input, masks = convert_to_BERT_tensors(questions, contexts)\n",
    "answers = res_names_answers\n",
    "spans = [get_answer_span_tensor(questions[i], contexts[i], answers[i]) for i in range(len(questions))]\n",
    "\n",
    "rest_train_dataloader = DataLoader(QAdataset(QA_input, spans, masks), batch_size=batch_size, num_workers=4, shuffle=False)\n",
    "\n",
    "questions = hotel_name_question\n",
    "QA_input, masks = convert_to_BERT_tensors(questions, contexts)\n",
    "answers = hotel_names_answers\n",
    "spans = [get_answer_span_tensor(questions[i], contexts[i], answers[i]) for i in range(len(questions))]\n",
    "hotel_train_dataloader = DataLoader(QAdataset(QA_input, spans, masks), batch_size=batch_size, num_workers=4, shuffle=False)"
   ]
  },
  {
   "cell_type": "code",
   "execution_count": 18,
   "metadata": {
    "colab": {
     "base_uri": "https://localhost:8080/"
    },
    "id": "YjWfTZenQ4yF",
    "outputId": "ea735502-86cc-4c8d-f35a-41a7cf6ed1a7"
   },
   "outputs": [
    {
     "name": "stdout",
     "output_type": "stream",
     "text": [
      "413\n",
      "413\n",
      "413\n",
      "413\n"
     ]
    }
   ],
   "source": [
    "##BUILDING DEV\n",
    "\n",
    "\n",
    "res_names_context = []\n",
    "res_names_answers = []\n",
    "hotel_names_context = []\n",
    "hotel_names_answers = []\n",
    "food_names_context = []\n",
    "food_names_answer = []\n",
    "all_context = []\n",
    "with open(file_path + \"WOZ_dev_utt.txt\") as f1:\n",
    "  with open(file_path + \"WOZ_dev_ans.txt\") as f2:\n",
    "    utterances = f1.readlines()\n",
    "    print(len(utterances))\n",
    "    for i,line in enumerate(f2.readlines()):\n",
    "        a_line = line.strip()\n",
    "        ans = a_line.split('|')\n",
    "\n",
    "        intent = ans[0]\n",
    "        \n",
    "        all_context.append(utterances[i].strip())\n",
    "        resName = 'XXNOANSWERXX'\n",
    "        foodName = 'XXNOANSWERXX'\n",
    "        hotelName = 'XXNOANSWERXX'\n",
    "\n",
    "        for a in ans[1:]:\n",
    "            if 'restaurant-name' == a.split('=')[0]:\n",
    "                resName = a.split('=')[1]\n",
    "                \n",
    "            if 'restaurant-food' == a.split('=')[0]:\n",
    "                foodName = a.split('=')[1]\n",
    "               \n",
    "            if 'hotel-name' == a.split('=')[0]:\n",
    "                hotelName = a.split('=')[1]\n",
    "                \n",
    "        res_names_answers.append(resName)\n",
    "        food_names_answer.append(foodName)\n",
    "        hotel_names_answers.append(hotelName)\n",
    "\n",
    "\n",
    "print(len(res_names_answers))\n",
    "print(len(food_names_answer))\n",
    "print(len(hotel_names_answers))\n",
    "questions = []\n",
    "contexts = []\n",
    "\n",
    "food_question = [\"What kind of food?\"]*len(food_names_answer)\n",
    "res_name_question = [\"Which restaurant\"]*len(res_names_answers)\n",
    "hotel_name_question = [\"Which hotel\"]*len(hotel_names_answers)\n",
    "\n",
    "questions.extend(food_question)\n",
    "questions.extend(res_name_question)\n",
    "questions.extend(hotel_name_question)\n",
    "\n",
    "contexts = all_context\n",
    "questions = food_question\n",
    "QA_input, masks = convert_to_BERT_tensors(questions, contexts)\n",
    "answers = food_names_answer\n",
    "spans = [get_answer_span_tensor(questions[i], contexts[i], answers[i]) for i in range(len(questions))]\n",
    "\n",
    "\n",
    "food_dev_dataloader = DataLoader(QAdataset(QA_input, spans, masks), batch_size=batch_size, num_workers=4, shuffle=False)\n",
    "\n",
    "questions = res_name_question\n",
    "QA_input, masks = convert_to_BERT_tensors(questions, contexts)\n",
    "answers = res_names_answers\n",
    "spans = [get_answer_span_tensor(questions[i], contexts[i], answers[i]) for i in range(len(questions))]\n",
    "\n",
    "rest_dev_dataloader = DataLoader(QAdataset(QA_input, spans, masks), batch_size=batch_size, num_workers=4, shuffle=False)\n",
    "\n",
    "questions = hotel_name_question\n",
    "QA_input, masks = convert_to_BERT_tensors(questions, contexts)\n",
    "answers = hotel_names_answers\n",
    "spans = [get_answer_span_tensor(questions[i], contexts[i], answers[i]) for i in range(len(questions))]\n",
    "hotel_dev_dataloader = DataLoader(QAdataset(QA_input, spans, masks), batch_size=batch_size, num_workers=4, shuffle=False)"
   ]
  },
  {
   "cell_type": "code",
   "execution_count": 19,
   "metadata": {
    "id": "fHqH_tVdR6lR"
   },
   "outputs": [],
   "source": [
    "device = torch.device('cuda') if torch.cuda.is_available() else torch.device('cpu')\n",
    "criterion = nn.CrossEntropyLoss()\n",
    "# create checkpoint directory\n",
    "import os\n",
    "save_path = '/content/gdrive/MyDrive/Colab Notebooks/563Lab4/'\n",
    "if os.path.exists(save_path) == False:\n",
    "    os.makedirs(save_path)\n",
    "from tqdm import tqdm, trange\n",
    "from sklearn.metrics import accuracy_score, f1_score, recall_score, precision_score, classification_report, confusion_matrix"
   ]
  },
  {
   "cell_type": "code",
   "execution_count": 20,
   "metadata": {
    "id": "NNsVgR9USCHE"
   },
   "outputs": [],
   "source": [
    "from transformers import AutoModelForQuestionAnswering, TrainingArguments, Trainer"
   ]
  },
  {
   "cell_type": "code",
   "execution_count": 21,
   "metadata": {
    "colab": {
     "base_uri": "https://localhost:8080/"
    },
    "id": "m0rjvuUvTdiw",
    "outputId": "ee1c8856-a478-4693-d6bc-263ed1de0371"
   },
   "outputs": [
    {
     "name": "stderr",
     "output_type": "stream",
     "text": [
      "Some weights of the model checkpoint at distilbert-base-uncased were not used when initializing DistilBertForQuestionAnswering: ['vocab_projector.weight', 'vocab_layer_norm.weight', 'vocab_projector.bias', 'vocab_layer_norm.bias', 'vocab_transform.weight', 'vocab_transform.bias']\n",
      "- This IS expected if you are initializing DistilBertForQuestionAnswering from the checkpoint of a model trained on another task or with another architecture (e.g. initializing a BertForSequenceClassification model from a BertForPreTraining model).\n",
      "- This IS NOT expected if you are initializing DistilBertForQuestionAnswering from the checkpoint of a model that you expect to be exactly identical (initializing a BertForSequenceClassification model from a BertForSequenceClassification model).\n",
      "Some weights of DistilBertForQuestionAnswering were not initialized from the model checkpoint at distilbert-base-uncased and are newly initialized: ['qa_outputs.bias', 'qa_outputs.weight']\n",
      "You should probably TRAIN this model on a down-stream task to be able to use it for predictions and inference.\n",
      "Some weights of the model checkpoint at distilbert-base-uncased were not used when initializing DistilBertForQuestionAnswering: ['vocab_projector.weight', 'vocab_layer_norm.weight', 'vocab_projector.bias', 'vocab_layer_norm.bias', 'vocab_transform.weight', 'vocab_transform.bias']\n",
      "- This IS expected if you are initializing DistilBertForQuestionAnswering from the checkpoint of a model trained on another task or with another architecture (e.g. initializing a BertForSequenceClassification model from a BertForPreTraining model).\n",
      "- This IS NOT expected if you are initializing DistilBertForQuestionAnswering from the checkpoint of a model that you expect to be exactly identical (initializing a BertForSequenceClassification model from a BertForSequenceClassification model).\n",
      "Some weights of DistilBertForQuestionAnswering were not initialized from the model checkpoint at distilbert-base-uncased and are newly initialized: ['qa_outputs.bias', 'qa_outputs.weight']\n",
      "You should probably TRAIN this model on a down-stream task to be able to use it for predictions and inference.\n",
      "Some weights of the model checkpoint at distilbert-base-uncased were not used when initializing DistilBertForQuestionAnswering: ['vocab_projector.weight', 'vocab_layer_norm.weight', 'vocab_projector.bias', 'vocab_layer_norm.bias', 'vocab_transform.weight', 'vocab_transform.bias']\n",
      "- This IS expected if you are initializing DistilBertForQuestionAnswering from the checkpoint of a model trained on another task or with another architecture (e.g. initializing a BertForSequenceClassification model from a BertForPreTraining model).\n",
      "- This IS NOT expected if you are initializing DistilBertForQuestionAnswering from the checkpoint of a model that you expect to be exactly identical (initializing a BertForSequenceClassification model from a BertForSequenceClassification model).\n",
      "Some weights of DistilBertForQuestionAnswering were not initialized from the model checkpoint at distilbert-base-uncased and are newly initialized: ['qa_outputs.bias', 'qa_outputs.weight']\n",
      "You should probably TRAIN this model on a down-stream task to be able to use it for predictions and inference.\n"
     ]
    }
   ],
   "source": [
    "model_food = AutoModelForQuestionAnswering.from_pretrained(\"distilbert-base-uncased\")\n",
    "model_rest = AutoModelForQuestionAnswering.from_pretrained(\"distilbert-base-uncased\")\n",
    "model_hotel = AutoModelForQuestionAnswering.from_pretrained(\"distilbert-base-uncased\")"
   ]
  },
  {
   "cell_type": "code",
   "execution_count": 22,
   "metadata": {
    "id": "dKj1AQdQU9Tx"
   },
   "outputs": [],
   "source": [
    "# Parameters:\n",
    "lr = 0.00003\n",
    "max_grad_norm = 1.0\n",
    "epochs = 1\n",
    "# warmup_proportion = 0.1\n",
    "# num_training_steps  = 77558 * epochs\n",
    "# num_warmup_steps = num_training_steps * warmup_proportion\n",
    "\n",
    "\n",
    "model_food.to(device)\n",
    "model_rest.to(device)\n",
    "model_hotel.to(device)\n",
    "optimizer_food = optim.Adam(model_food.parameters(), lr=lr)\n",
    "optimizer_rest = optim.Adam(model_rest.parameters(), lr=lr)\n",
    "optimizer_hotel = optim.Adam(model_hotel.parameters(), lr=lr)"
   ]
  },
  {
   "cell_type": "code",
   "execution_count": 23,
   "metadata": {
    "id": "bG40jEW3VBc1"
   },
   "outputs": [],
   "source": [
    "from tqdm import tqdm\n",
    "predicted_starts = []\n",
    "gold_starts = []\n",
    "predicted_ends = []\n",
    "gold_ends = []\n",
    "def train_n_evaluate(model, optimizer, train_itr, dev_itr):\n",
    "    \n",
    "    epoch_loss = 0\n",
    "    l = 0\n",
    "    best_start_accuracy = 0\n",
    "    # Uncomment while training\n",
    "\n",
    "    for epoch in range(epochs):\n",
    "      model.train()\n",
    "      loop = tqdm(train_itr, leave=True)\n",
    "      for train_text_batch, train_span_batch, masks in loop:\n",
    "          train_text_batch = train_text_batch.to(device)\n",
    "          train_span_batch = train_span_batch.to(device)\n",
    "          masks = masks.to(device)\n",
    "          outputs = model(train_text_batch, \n",
    "                          attention_mask=masks,\n",
    "                          start_positions=train_span_batch[:, 0],\n",
    "                          end_positions=train_span_batch[:, 1])\n",
    "          \n",
    "              \n",
    "          loss = outputs.loss \n",
    "          \n",
    "          optimizer.zero_grad()\n",
    "          loss.backward()\n",
    "          optimizer.step()\n",
    "          \n",
    "          loop.set_description(f'Epoch {epoch}')\n",
    "          l += 1\n",
    "          epoch_loss += loss.cpu().item()\n",
    "          overall_loss = epoch_loss/l\n",
    "          loop.set_postfix(loss=loss.item())\n",
    "          loop.set_postfix(overall_loss=overall_loss)\n",
    "          # delete used variables to free GPU memory\n",
    "          del train_text_batch, masks, train_span_batch\n",
    "\n",
    "      model.eval()\n",
    "      loop = tqdm(dev_itr)\n",
    "\n",
    "      \n",
    "      model.eval()\n",
    "\n",
    "      for dev_text_batch, dev_span_batch, masks in loop:\n",
    "          with torch.no_grad():\n",
    "              dev_text_batch = dev_text_batch.to(device)\n",
    "              dev_span_batch = dev_span_batch.to(device)\n",
    "              masks = masks.to(device)\n",
    "              outputs = model(dev_text_batch, attention_mask=masks,\n",
    "                              start_positions = dev_span_batch[:, 0],\n",
    "                              end_positions= dev_span_batch[:, 1])\n",
    "              start_pred = torch.argmax(outputs['start_logits'], dim=1)\n",
    "              end_pred = torch.argmax(outputs['end_logits'], dim=1)\n",
    "              predicted_starts.extend(start_pred.tolist())\n",
    "              gold_starts.extend(dev_span_batch[:, 0].tolist())\n",
    "              predicted_ends.extend(end_pred.tolist())\n",
    "              gold_ends.extend(dev_span_batch[:, 1].tolist())  \n",
    "      \n",
    "      a1 = accuracy_score(gold_starts,predicted_starts)\n",
    "      a2 = accuracy_score(gold_ends,predicted_ends)\n",
    "      # if(a1 + a2 > best_start_accuracy):\n",
    "      #   best_start_accuracy = a1 + a2\n",
    "      torch.save(model.state_dict(),'563.pt')\n",
    "      print(f\"Starts accuracy: {accuracy_score(gold_starts,predicted_starts)*100:0.2f}%\")\n",
    "      print(f\"Ends accuracy: {accuracy_score(gold_ends,predicted_ends)*100:0.2f}%\")"
   ]
  },
  {
   "cell_type": "code",
   "execution_count": 24,
   "metadata": {
    "colab": {
     "base_uri": "https://localhost:8080/"
    },
    "id": "iSDAvHJqVRkF",
    "outputId": "f53f7095-a67d-43d2-99e7-52830844a76b"
   },
   "outputs": [
    {
     "name": "stdout",
     "output_type": "stream",
     "text": [
      "FOOD MODEL\n"
     ]
    },
    {
     "name": "stderr",
     "output_type": "stream",
     "text": [
      "Epoch 0: 100%|██████████| 235/235 [01:41<00:00,  2.32it/s, overall_loss=0.445]\n",
      "100%|██████████| 26/26 [00:03<00:00,  6.66it/s]\n"
     ]
    },
    {
     "name": "stdout",
     "output_type": "stream",
     "text": [
      "Starts accuracy: 99.27%\n",
      "Ends accuracy: 98.79%\n",
      "RESTAURANT MODEL\n"
     ]
    },
    {
     "name": "stderr",
     "output_type": "stream",
     "text": [
      "Epoch 0: 100%|██████████| 235/235 [01:41<00:00,  2.32it/s, overall_loss=0.457]\n",
      "100%|██████████| 26/26 [00:03<00:00,  6.64it/s]\n"
     ]
    },
    {
     "name": "stdout",
     "output_type": "stream",
     "text": [
      "Starts accuracy: 98.55%\n",
      "Ends accuracy: 97.82%\n",
      "HOTEL MODEL\n"
     ]
    },
    {
     "name": "stderr",
     "output_type": "stream",
     "text": [
      "Epoch 0: 100%|██████████| 235/235 [01:41<00:00,  2.32it/s, overall_loss=0.407]\n",
      "100%|██████████| 26/26 [00:03<00:00,  6.67it/s]\n"
     ]
    },
    {
     "name": "stdout",
     "output_type": "stream",
     "text": [
      "Starts accuracy: 98.79%\n",
      "Ends accuracy: 97.98%\n"
     ]
    }
   ],
   "source": [
    "print(f\"FOOD MODEL\")\n",
    "train_n_evaluate(model_food, optimizer_food, food_train_dataloader, food_dev_dataloader)\n",
    "\n",
    "print(f\"RESTAURANT MODEL\")\n",
    "train_n_evaluate(model_rest, optimizer_rest, rest_train_dataloader, rest_dev_dataloader)\n",
    "\n",
    "print(f\"HOTEL MODEL\")\n",
    "train_n_evaluate(model_hotel, optimizer_hotel, hotel_train_dataloader, hotel_dev_dataloader)"
   ]
  },
  {
   "cell_type": "code",
   "execution_count": 25,
   "metadata": {
    "id": "yuiRdtdGpfPE"
   },
   "outputs": [],
   "source": [
    "\n",
    "from sklearn.feature_extraction.text import CountVectorizer\n",
    "import numpy as np \n",
    "from sklearn.feature_extraction.text import TfidfTransformer\n",
    "from sklearn.pipeline import Pipeline\n",
    "from sklearn.linear_model import LogisticRegression"
   ]
  },
  {
   "cell_type": "code",
   "execution_count": 26,
   "metadata": {
    "colab": {
     "base_uri": "https://localhost:8080/"
    },
    "id": "qdtEnAKtwX80",
    "outputId": "438085cb-d065-4820-8ac7-393512a84c78"
   },
   "outputs": [
    {
     "name": "stdout",
     "output_type": "stream",
     "text": [
      "train_binary_score:  0.9976063829787234\n",
      "dev_binary_score:  0.9975786924939467\n"
     ]
    }
   ],
   "source": [
    "woz_directory = file_path\n",
    "with open(woz_directory + \"WOZ_train_utt.txt\") as f:\n",
    "    train =f.read().splitlines()\n",
    "\n",
    "with open(woz_directory + \"WOZ_dev_utt.txt\") as f:\n",
    "    dev = f.read().splitlines()\n",
    "\n",
    "with open(woz_directory + \"WOZ_test_utt.txt\") as f:\n",
    "    test = f.read().splitlines()\n",
    "\n",
    "train_category = []\n",
    "train_facility = []\n",
    "\n",
    "with open(woz_directory + \"WOZ_train_ans.txt\") as f:\n",
    "    for line in f:\n",
    "        splitting = line.strip().split('|')\n",
    "        train_category.append(splitting[0])\n",
    "        train_facility.append(splitting[1:])\n",
    "        \n",
    "dev_category = []\n",
    "dev_facility = []\n",
    "        \n",
    "with open(woz_directory + \"WOZ_dev_ans.txt\") as f:\n",
    "    for line in f:\n",
    "        splitting = line.strip().split('|')\n",
    "        dev_category.append(splitting[0])\n",
    "        dev_facility.append(splitting[1:])\n",
    "\n",
    "\n",
    "\n",
    "lr = Pipeline([('vect', CountVectorizer(stop_words='english')),\n",
    "                     ('tfidf', TfidfTransformer()),\n",
    "                     ('lr', LogisticRegression(max_iter=1000)),])\n",
    "\n",
    "\n",
    "lr.fit(train, train_category)\n",
    "print(\"train_binary_score: \",lr.score(train, train_category))\n",
    "print(\"dev_binary_score: \",lr.score(dev, dev_category))\n",
    "\n",
    "test_binary_predictions = lr.predict(test)"
   ]
  },
  {
   "cell_type": "code",
   "execution_count": 27,
   "metadata": {
    "colab": {
     "base_uri": "https://localhost:8080/"
    },
    "id": "xLcafdBdxmJe",
    "outputId": "71e2924b-f945-45ac-c47a-93b7b1fecb5b"
   },
   "outputs": [
    {
     "data": {
      "text/plain": [
       "['Hello, I am looking for a restaurant in Cambridge. I believe it is called Golden Wok.',\n",
       " \"Hi, I'm looking for a hotel to stay in that includes free wifi. I'm looking to stay in a hotel, not a guesthouse.\",\n",
       " 'I am looking for a place to stay in the north of the city. I would prefer a 4 star hotel please.',\n",
       " \"I need a place to dine, and I'd like to know what's available so far as cheap Asian Oriental food.\",\n",
       " 'I need a five starts hotel close to a mall and main restaurants. The hotel should include free wifi in the room.']"
      ]
     },
     "execution_count": 27,
     "metadata": {},
     "output_type": "execute_result"
    }
   ],
   "source": [
    "test[:5]"
   ]
  },
  {
   "cell_type": "code",
   "execution_count": 28,
   "metadata": {
    "colab": {
     "base_uri": "https://localhost:8080/"
    },
    "id": "-YM1RYfPxvOt",
    "outputId": "d8930b63-e6a9-44a7-b017-6c957c400077"
   },
   "outputs": [
    {
     "data": {
      "text/plain": [
       "array(['find_restaurant', 'find_hotel', 'find_hotel', 'find_restaurant',\n",
       "       'find_hotel'], dtype='<U15')"
      ]
     },
     "execution_count": 28,
     "metadata": {},
     "output_type": "execute_result"
    }
   ],
   "source": [
    "test_binary_predictions[:5]"
   ]
  },
  {
   "cell_type": "code",
   "execution_count": 29,
   "metadata": {
    "colab": {
     "base_uri": "https://localhost:8080/"
    },
    "id": "_DBnikgaxy4m",
    "outputId": "5b19aecf-5dea-4214-bea6-b7f968db88a5"
   },
   "outputs": [
    {
     "name": "stdout",
     "output_type": "stream",
     "text": [
      "400\n"
     ]
    }
   ],
   "source": [
    "##BUILDING TEST\n",
    "\n",
    "\n",
    "res_names_context = []\n",
    "res_names_answers = []\n",
    "hotel_names_context = []\n",
    "hotel_names_answers = []\n",
    "food_names_context = []\n",
    "food_names_answer = []\n",
    "all_context = []\n",
    "with open(file_path + \"WOZ_test_utt.txt\") as f1:\n",
    "  \n",
    "  utterances = f1.readlines()\n",
    "  total = len(utterances)\n",
    "  print(total)\n",
    "  for i,line in enumerate(utterances):\n",
    "      \n",
    "      all_context.append(utterances[i].strip())\n",
    "      resName = 'XXNOANSWERXX'\n",
    "      foodName = 'XXNOANSWERXX'\n",
    "      hotelName = 'XXNOANSWERXX'\n",
    "       \n",
    "      res_names_answers.append(resName)\n",
    "      food_names_answer.append(foodName)\n",
    "      hotel_names_answers.append(hotelName)\n",
    "\n",
    "\n",
    "\n",
    "questions = []\n",
    "contexts = []\n",
    "\n",
    "food_question = [\"What kind of food?\"]*len(food_names_answer)\n",
    "res_name_question = [\"Which restaurant\"]*len(res_names_answers)\n",
    "hotel_name_question = [\"Which hotel\"]*len(hotel_names_answers)\n",
    "\n",
    "contexts = all_context\n",
    "questions = food_question\n",
    "QA_input, masks = convert_to_BERT_tensors(questions, contexts)\n",
    "spans = [torch.tensor([0, 0])for i in range(len(questions))]\n",
    "\n",
    "food_test_dataloader = DataLoader(QAdataset(QA_input, spans, masks), batch_size=batch_size, num_workers=4, shuffle=False)\n",
    "\n",
    "questions = res_name_question\n",
    "QA_input, masks = convert_to_BERT_tensors(questions, contexts)\n",
    "rest_test_dataloader = DataLoader(QAdataset(QA_input, spans, masks), batch_size=batch_size, num_workers=4, shuffle=False)\n",
    "\n",
    "questions = hotel_name_question\n",
    "QA_input, masks = convert_to_BERT_tensors(questions, contexts)\n",
    "hotel_test_dataloader = DataLoader(QAdataset(QA_input, spans, masks), batch_size=batch_size, num_workers=4, shuffle=False)\n"
   ]
  },
  {
   "cell_type": "code",
   "execution_count": 30,
   "metadata": {
    "colab": {
     "base_uri": "https://localhost:8080/"
    },
    "id": "9h2FTmR2zeI8",
    "outputId": "9aeb0fd4-4ff7-472e-cdbb-39e9e8757f11"
   },
   "outputs": [
    {
     "name": "stdout",
     "output_type": "stream",
     "text": [
      "Requirement already satisfied: pulp in /usr/local/lib/python3.7/dist-packages (2.6.0)\n"
     ]
    }
   ],
   "source": [
    "!pip install pulp"
   ]
  },
  {
   "cell_type": "code",
   "execution_count": 31,
   "metadata": {
    "colab": {
     "base_uri": "https://localhost:8080/"
    },
    "id": "-woOLX3AzRgj",
    "outputId": "2dc3c8c8-a7a9-41d0-aa85-bf4b104c5ebb"
   },
   "outputs": [
    {
     "data": {
      "text/plain": [
       "[(1, 2), (2, 4)]"
      ]
     },
     "execution_count": 31,
     "metadata": {},
     "output_type": "execute_result"
    }
   ],
   "source": [
    "import pulp\n",
    "# your code here\n",
    "def select_best_answer_span(start_probs, end_probs, distance):\n",
    "    \n",
    "    if start_probs.shape[0] != end_probs.shape[0]:\n",
    "        return\n",
    "    \n",
    "    startings = np.arange(start_probs.shape[1])\n",
    "    endings = np.arange(end_probs.shape[1])\n",
    "    result = []\n",
    "    for i, start in enumerate(start_probs):\n",
    "        \n",
    "        log_prob_start = start\n",
    "        log_prob_end = end_probs[i]\n",
    "        start_or_end = np.arange(2)\n",
    "        all_options = startings\n",
    "\n",
    "\n",
    "        prob = pulp.LpProblem(\"QA_Problem\", pulp.LpMaximize)\n",
    "        x = pulp.LpVariable.dicts(\"x\", (start_or_end, all_options), 0, 1, pulp.LpInteger)\n",
    "        prob += pulp.lpSum(((x[0][i]*log_prob_start[i]) + ((x[1][i]*log_prob_end[i])) for i in startings))\n",
    "\n",
    "        #only one possible ans\n",
    "        prob += pulp.lpSum(x[0][i] for i in all_options) == 1\n",
    "        prob += pulp.lpSum(x[1][i] for i in all_options) == 1\n",
    "\n",
    "        for i in startings:\n",
    "            prob += pulp.lpSum([[x[0][i]]] + [-x[1][dis] for dis in range(i, min(i+distance+1, len(startings)))]) <= 0\n",
    "            \n",
    "                \n",
    "        prob.solve()\n",
    "        # print(prob)\n",
    "        # print(pulp.LpStatus[prob.status])\n",
    "        # print(pulp.value(prob.objective))\n",
    "        start = 0\n",
    "        end = 0\n",
    "        for index in startings:\n",
    "            if x[0][index].value() == 1 :\n",
    "                start = index\n",
    "            if x[1][index].value() == 1 :\n",
    "                end = index\n",
    "        # if(start == 0):\n",
    "        #     start = log_prob_start.argmax()\n",
    "        # if(end == 0):\n",
    "        #     end = log_prob_end.argmax()\n",
    "        result.append((start, end))\n",
    "    \n",
    "    return result\n",
    "test_starts = np.array([[0.1,0.5,0.2,0.1,0.1], [0.3,0.2,0.2,0.1,0.1]])\n",
    "test_ends = np.array([[0.4,0.1,0.3,0.1,0.1], [0.1,0.1,0.1,0.1,0.6]])\n",
    "select_best_answer_span(test_starts,test_ends,2)"
   ]
  },
  {
   "cell_type": "code",
   "execution_count": 32,
   "metadata": {
    "colab": {
     "base_uri": "https://localhost:8080/"
    },
    "id": "CKu9p4OqzbSs",
    "outputId": "0740d177-01b7-43e2-8021-837e81439d3e"
   },
   "outputs": [
    {
     "name": "stderr",
     "output_type": "stream",
     "text": [
      "100%|██████████| 25/25 [02:49<00:00,  6.78s/it]\n",
      "100%|██████████| 25/25 [02:51<00:00,  6.84s/it]\n",
      "100%|██████████| 25/25 [02:47<00:00,  6.71s/it]\n"
     ]
    }
   ],
   "source": [
    "food_predictions= []\n",
    "rest_predictions = []\n",
    "hotel_predictions = []\n",
    "loop = tqdm(food_test_dataloader)\n",
    "for text_batch, span_batch, masks in loop:\n",
    "  text_batch = text_batch.to(device)\n",
    "  masks = masks.to(device)\n",
    "  output = model_food(text_batch, masks)\n",
    "  result = select_best_answer_span(output.start_logits,output.end_logits, 10)\n",
    "  for i, (start_index, end_index) in enumerate (result):\n",
    "    food_predictions.append(tokenizer.decode(text_batch[i][start_index:end_index+1]))\n",
    "loop = tqdm(rest_test_dataloader)\n",
    "for text_batch, span_batch, masks in loop:\n",
    "  text_batch = text_batch.to(device)\n",
    "  masks = masks.to(device)\n",
    "  output = model_rest(text_batch, masks)\n",
    "  result = select_best_answer_span(output.start_logits,output.end_logits, 10)\n",
    "  for i, (start_index, end_index) in enumerate (result):\n",
    "    rest_predictions.append(tokenizer.decode(text_batch[i][start_index:end_index+1]))\n",
    "loop = tqdm(hotel_test_dataloader)\n",
    "for text_batch, span_batch, masks in loop:\n",
    "  text_batch = text_batch.to(device)\n",
    "  masks = masks.to(device)\n",
    "  output = model_hotel(text_batch, masks)\n",
    "  result = select_best_answer_span(output.start_logits,output.end_logits, 10)\n",
    "  for i, (start_index, end_index) in enumerate (result):\n",
    "    hotel_predictions.append(tokenizer.decode(text_batch[i][start_index:end_index+1]))"
   ]
  },
  {
   "cell_type": "code",
   "execution_count": 33,
   "metadata": {
    "colab": {
     "base_uri": "https://localhost:8080/",
     "height": 37
    },
    "id": "dEb_wmsmz7Fu",
    "outputId": "879724a2-6b0a-41d5-d14d-967c1607e02d"
   },
   "outputs": [
    {
     "data": {
      "application/vnd.google.colaboratory.intrinsic+json": {
       "type": "string"
      },
      "text/plain": [
       "'Which hotel'"
      ]
     },
     "execution_count": 33,
     "metadata": {},
     "output_type": "execute_result"
    }
   ],
   "source": [
    "questions[399]"
   ]
  },
  {
   "cell_type": "code",
   "execution_count": 34,
   "metadata": {
    "colab": {
     "base_uri": "https://localhost:8080/"
    },
    "id": "qFVYjZ-c0GTT",
    "outputId": "d2acdbfa-e367-44ad-df28-87df82ad0d5f"
   },
   "outputs": [
    {
     "data": {
      "text/plain": [
       "[('Which hotel', '[CLS]'),\n",
       " ('Which hotel', '[CLS]'),\n",
       " ('Which hotel', '[CLS]'),\n",
       " ('Which hotel', '[CLS]'),\n",
       " ('Which hotel', '[CLS]')]"
      ]
     },
     "execution_count": 34,
     "metadata": {},
     "output_type": "execute_result"
    }
   ],
   "source": [
    "list(zip(questions, hotel_predictions))[:5]"
   ]
  },
  {
   "cell_type": "code",
   "execution_count": 35,
   "metadata": {
    "id": "yYXLrX9t0MuP"
   },
   "outputs": [],
   "source": [
    "hotel_slot_order = [\"hotel-area\",\"hotel-internet\", \"hotel-name\", \"hotel-parking\",\"hotel-pricerange\", \"hotel-stars\", \"hotel-type\"]\n",
    "restaurant_slot_order = [\"restaurant-area\",\"restaurant-food\",\"restaurant-name\",\"restaurant-pricerange\"]"
   ]
  },
  {
   "cell_type": "code",
   "execution_count": 36,
   "metadata": {
    "id": "_2CJpEbK1_pU"
   },
   "outputs": [],
   "source": [
    "import editdistance\n",
    "\n",
    "def predict_area(utterance, establishment, filter=[]):\n",
    "    \n",
    "    utterance = utterance.lower()\n",
    "    for f in filter:\n",
    "        utterance = utterance.replace(f, \"XXXX\")\n",
    "    dont_care = [\"any area\", \"anywhere in town\", \"any part\"]\n",
    "    \n",
    "    if \"north\" in utterance:\n",
    "        return f\"{establishment}-area=north\"\n",
    "    \n",
    "    if \"south\" in utterance:\n",
    "        return f\"{establishment}-area=south\"\n",
    "    \n",
    "    if \"east\" in utterance:\n",
    "        return f\"{establishment}-area=east\"\n",
    "    \n",
    "    if \"west\" in utterance:\n",
    "        return f\"{establishment}-area=west\"\n",
    "    \n",
    "    if \"center\" in utterance or \"centr\" in utterance or \"downtown\" in utterance:\n",
    "        return f\"{establishment}-area=centre\"\n",
    "    \n",
    "    for word in utterance.split():\n",
    "        if editdistance.eval(\"centre\", word) == 1:\n",
    "            return f\"{establishment}-area=centre\"\n",
    "    \n",
    "    for phrase in dont_care:\n",
    "        if phrase in utterance:\n",
    "            return f\"{establishment}-area=dontcare\"\n",
    "        \n",
    "    if \"don't care\" in utterance and (\"what part\" in utterance or \"what area\" in utterance.lower()):\n",
    "        return f\"{establishment}-area=dontcare\"\n",
    "    \n",
    "    return \"\""
   ]
  },
  {
   "cell_type": "code",
   "execution_count": 37,
   "metadata": {
    "colab": {
     "base_uri": "https://localhost:8080/"
    },
    "id": "hfu4A5vp2vxD",
    "outputId": "02c33e9b-4271-44f4-9f01-daeaf87b9eed"
   },
   "outputs": [
    {
     "name": "stdout",
     "output_type": "stream",
     "text": [
      "I'm looking for a expensive restaurant that serves north american food.\n",
      "['restaurant-food=north american', 'restaurant-pricerange=expensive']\n",
      "DETECTION restaurant-area=north\n",
      "I need to find a barbeque restaurant in the centre of town.\n",
      "['restaurant-food=barbeque']\n",
      "DETECTION restaurant-area=centre\n",
      "Please find a place to eat that serves South Indian food in the center.\n",
      "['restaurant-area=centre', 'restaurant-food=south indian']\n",
      "DETECTION restaurant-area=south\n",
      "Can you help me locate an expensive restaurant offering Northern European cuisine?\n",
      "['restaurant-food=northern european', 'restaurant-pricerange=expensive']\n",
      "DETECTION restaurant-area=north\n",
      "I want to find an expensive restaurant that has North American food.\n",
      "['restaurant-food=north american', 'restaurant-pricerange=expensive']\n",
      "DETECTION restaurant-area=north\n",
      "I'd like to find a place that I can get some Northern European food.\n",
      "['restaurant-food=northern european']\n",
      "DETECTION restaurant-area=north\n",
      "A friend recommended the City Centre North B&B. Could you help me find it?\n",
      "['hotel-name=city centre north b and b']\n",
      "DETECTION hotel-area=north\n",
      "406\n",
      "7\n"
     ]
    }
   ],
   "source": [
    "correct = 0\n",
    "incorrect = 0\n",
    "\n",
    "for utt, ans, cat in list(zip(dev, dev_facility, dev_category)):\n",
    "    # print(ans)\n",
    "    if (\"-area\" in \" \".join(ans) and predict_area(utt, cat.split(\"_\")[1]) in \" \".join(ans)) or (\"-area\" not in \" \".join(ans) and predict_area(utt, cat.split(\"_\")[1]) == \"\"):\n",
    "        correct += 1\n",
    "    else:\n",
    "        print(utt)\n",
    "        print(ans)\n",
    "        print(f'DETECTION {predict_area(utt, cat.split(\"_\")[1])}')\n",
    "        incorrect += 1\n",
    "        \n",
    "        \n",
    "print(correct)\n",
    "print(incorrect)"
   ]
  },
  {
   "cell_type": "code",
   "execution_count": 38,
   "metadata": {
    "id": "-K92J7xQ21Yb"
   },
   "outputs": [],
   "source": [
    "def predict_pricerange(utterance, establishment, filter=[]):\n",
    "    \n",
    "    utterance = utterance.lower()\n",
    "    for f in filter:\n",
    "        utterance = utterance.replace(f, \"XXXX\")\n",
    "    dont_care = [\"cost\", \"pricerange\", \"price range\"]\n",
    "    \n",
    "    moderate = [\"moderate\", \"medium\", \"mid range\", \"mid-range\", \"mid price\",\n",
    "                \"mid-price\", \"middle price\", \"middle-price\", \"middle range\",\n",
    "                \"middle-range\", \"too cheap\", \"too expensive\", \"decent\"]\n",
    "    \n",
    "    single_word_moderate = [word for word in moderate if \" \" not in word]\n",
    "    \n",
    "    cheap = [\"cheap\", \"inexpensive\", \"low price\", \"low-price\", \"lower price\", \"lower-price\"]\n",
    "    \n",
    "    expensive = [\"expensive\", \"pricy\", \"prici\", \"upscale\", \"high price\", \"high-price\",\n",
    "                 \"an object\", \"an issue\", \"posh\", \"show off\", \"high scale\", \"high-scale\",\n",
    "                 \"fancy\", \"high end\", \"high-end\"]\n",
    "    \n",
    "    single_word_expensive = [word for word in expensive if \" \" not in word]\n",
    "    \n",
    "    negation = [\"n't\", \"not\"]\n",
    "    \n",
    "    if \"don't care\" in utterance:\n",
    "        for phrase in dont_care:\n",
    "            if phrase in utterance:\n",
    "                distance = utterance.index(phrase) - utterance.index(\"don't care\")\n",
    "                if distance > 0 and distance < 30:\n",
    "                    return f\"{establishment}-pricerange=dontcare\"\n",
    "        if \"how expensive\" in utterance or \"how much\" in utterance:\n",
    "            return f\"{establishment}-pricerange=dontcare\"\n",
    "        \n",
    "    for phrase in moderate:\n",
    "        if phrase in utterance:\n",
    "            return f\"{establishment}-pricerange=moderate\"\n",
    "        elif \"expensive\" in utterance and \"cheap\" in utterance:\n",
    "            return f\"{establishment}-pricerange=moderate\"\n",
    "\n",
    "    for word1 in single_word_moderate:\n",
    "        for word2 in utterance.split():\n",
    "            if editdistance.eval(word1, word2) == 1:\n",
    "                return f\"{establishment}-pricerange=moderate\"\n",
    "        \n",
    "    for phrase in cheap:\n",
    "        if phrase in utterance:\n",
    "            return f\"{establishment}-pricerange=cheap\"\n",
    "    \n",
    "    for phrase in expensive:\n",
    "        if phrase in utterance:\n",
    "            for neg in negation:\n",
    "                if neg in utterance:\n",
    "                    distance = utterance.index(phrase) - utterance.index(neg)\n",
    "                    if distance > 0 and distance < 20:\n",
    "                        return f\"{establishment}-pricerange=cheap\"\n",
    "                    else:\n",
    "                        return f\"{establishment}-pricerange=expensive\"\n",
    "            return f\"{establishment}-pricerange=expensive\"\n",
    "        \n",
    "    for word1 in single_word_expensive:\n",
    "        for word2 in utterance.split():\n",
    "            if editdistance.eval(word1, word2) == 1 and word2 != \"price\" and word2 != \"post\":\n",
    "                print(word1, word2)\n",
    "                return f\"{establishment}-pricerange=expensive\"\n",
    "            \n",
    "    return \"\""
   ]
  },
  {
   "cell_type": "code",
   "execution_count": 39,
   "metadata": {
    "colab": {
     "base_uri": "https://localhost:8080/"
    },
    "id": "wQVrlQ_B3CFh",
    "outputId": "ecc5d25d-4bcd-42d3-8537-bcbcbd83d8ae"
   },
   "outputs": [
    {
     "name": "stdout",
     "output_type": "stream",
     "text": [
      "Where are some restaurants that serve mediterranean dishes that are in the low to moderate price range?\n",
      "['restaurant-food=mediterranean', 'restaurant-pricerange=cheap']\n",
      "DETECTION restaurant-pricerange=moderate\n",
      "Please find a cheap place to eat that serves light bites food.\n",
      "['restaurant-food=light bites']\n",
      "DETECTION restaurant-pricerange=cheap\n",
      "411\n",
      "2\n"
     ]
    }
   ],
   "source": [
    "correct = 0\n",
    "incorrect = 0\n",
    "\n",
    "for utt, ans, cat in list(zip(dev, dev_facility, dev_category)):\n",
    "    # print(ans)\n",
    "    if (\"-price\" in \" \".join(ans) and predict_pricerange(utt, cat.split(\"_\")[1]) in \" \".join(ans)) or (\"-price\" not in \" \".join(ans) and predict_pricerange(utt, cat.split(\"_\")[1]) == \"\"):\n",
    "        correct += 1\n",
    "    else:\n",
    "        print(utt)\n",
    "        print(ans)\n",
    "        print(f'DETECTION {predict_pricerange(utt, cat.split(\"_\")[1])}')\n",
    "        incorrect += 1\n",
    "        \n",
    "        \n",
    "print(correct)\n",
    "print(incorrect)"
   ]
  },
  {
   "cell_type": "code",
   "execution_count": 40,
   "metadata": {
    "id": "72XkIDYK3EeR"
   },
   "outputs": [],
   "source": [
    "def predict_stars(utterance, establishment, filter=[]):\n",
    "    \n",
    "    utterance = utterance.lower()\n",
    "    for f in filter:\n",
    "        utterance = utterance.replace(f, \"XXXX\")\n",
    "    contains_star = False\n",
    "    \n",
    "    one = [\"1\", \"one\"]\n",
    "    \n",
    "    two = [\"2\", \"two\"]\n",
    "    \n",
    "    three = [\"3\", \"three\"]\n",
    "    \n",
    "    four = [\"4\", \"four\"]\n",
    "    \n",
    "    five = [\"5\", \"five\"]\n",
    "    \n",
    "    ratings = [one, two, three, four, five]\n",
    "    \n",
    "    for word in utterance.split():\n",
    "        if \"star\" in word:\n",
    "            contains_star = True\n",
    "            break\n",
    "    \n",
    "    if contains_star == False:\n",
    "        return \"\"\n",
    "    \n",
    "    if \"star \" in utterance:\n",
    "        index = utterance.index(\"star \")\n",
    "        \n",
    "    else:\n",
    "        index = utterance.index(\"star\")\n",
    "        \n",
    "    for i, rating in enumerate(ratings):\n",
    "        for rep in rating:\n",
    "            if rep in utterance[index-7:index]:\n",
    "                return f\"{establishment}-stars={i+1}\"\n",
    "            \n",
    "    return \"\""
   ]
  },
  {
   "cell_type": "code",
   "execution_count": 41,
   "metadata": {
    "colab": {
     "base_uri": "https://localhost:8080/"
    },
    "id": "bxsnJABO3M03",
    "outputId": "d3618ba8-40be-4e7a-dfff-d2e455ef9959"
   },
   "outputs": [
    {
     "name": "stdout",
     "output_type": "stream",
     "text": [
      "413\n",
      "0\n"
     ]
    }
   ],
   "source": [
    "correct = 0\n",
    "incorrect = 0\n",
    "\n",
    "for utt, ans, cat in list(zip(dev, dev_facility, dev_category)):\n",
    "    # print(ans)\n",
    "    if (\"-star\" in \" \".join(ans) and predict_stars(utt, cat.split(\"_\")[1]) in \" \".join(ans)) or (\"-star\" not in \" \".join(ans) and predict_stars(utt, cat.split(\"_\")[1]) == \"\"):\n",
    "        correct += 1\n",
    "    else:\n",
    "        print(utt)\n",
    "        print(ans)\n",
    "        print(f'DETECTION {predict_stars(utt, cat.split(\"_\")[1])}')\n",
    "        incorrect += 1\n",
    "        \n",
    "        \n",
    "print(correct)\n",
    "print(incorrect)"
   ]
  },
  {
   "cell_type": "code",
   "execution_count": 42,
   "metadata": {
    "colab": {
     "base_uri": "https://localhost:8080/"
    },
    "id": "RHgSBIUA65_z",
    "outputId": "e5e665e5-bd49-4b2a-9b73-c35710bacd20"
   },
   "outputs": [
    {
     "name": "stdout",
     "output_type": "stream",
     "text": [
      "i'm looking for a place to stay. i'd like a hotel, not a guesthouse, and i don't care about internet.\n",
      "i am looking for a hotel near the mall. the hotel should has free indoor parking, even it doesn't include internet.\n",
      "i'm looking for a hotel with a 4 star rating to stay at and i don't need to have internet. can you help?\n",
      "i'm looking for a place to stay in the centre. it doesn't need to include internet.\n",
      "can you help me find a place to stay that has free parking? it doesn't need to include internet.\n",
      "howdy, i'm looking for a place to stay. i don't care about internet.\n",
      "i need a place to stay in the east. i don't need to have access to the internet.\n",
      "can you give me info on four start places, it doesn;t matter if they have free wifi or not.\n",
      "thank you. i just happen to be looking for a place to stay. the hotel should be located west and it doesn't need to have free parking or anything like that.\n",
      "hello i am looking for a hotel on the west side of town. i'm not picky about wi-fi.\n",
      "i am looking for a guesthouse to stay in over the weekend. i don't need internet or free parking.\n",
      "i want to find a place to stay in the north that doesn't need to have free internet.\n",
      "i am looking for a hotel with free parking but wifi isn't a necessity.\n",
      "place to stay the night, with free parking and it doesn't need free wifi.\n",
      "i need to find a place to stay in town with atleast a 4 star rating. wifi optional.\n",
      "find me a place to stay that has free parking, but i don't need internet.\n",
      "i'm looking for a hotel in the west, internet is optional.\n",
      "i need a plcae to stay with free parking no interned is needed\n",
      "yes, i am looking for a nice place to stay while in town. the hotel doesn't need to include internet but i'd like it to include free parking if it's available.\n",
      "i am looking for a place with free parking, internet is not required.\n",
      "hi, i'm looking for a hotel. it doesn't need to include internet but needs to be near the centre.\n",
      "hi i am looking for a place to stay that has free parking and does not need to include wifi.\n",
      "while on my trip to cambridge i need a hotel, and it is not important for it to have internet.\n",
      "can you help me find a place to stay in the east? it does not need to include internet.\n",
      "yes, i'm searching for a 4 star rated places to stay in town. it does not need to have any internet connection.\n",
      "i am looking for a place to stay. the hotel should be in the type of guesthouse and doesn't need to include internet\n",
      "hi there, i need to find a hotel - a guesthouse to be precise. i don't need internet so don't worry about that\n"
     ]
    }
   ],
   "source": [
    "for utt, ans in list(zip(train, train_facility)):\n",
    "    utt = utt.lower()\n",
    "    if \"internet=dont\" in \" \".join(ans):\n",
    "        print(utt)"
   ]
  },
  {
   "cell_type": "code",
   "execution_count": 43,
   "metadata": {
    "colab": {
     "base_uri": "https://localhost:8080/"
    },
    "id": "Glp8TohmOtG_",
    "outputId": "2bb0d9ea-a2a8-43db-8064-7fdbc4782fef"
   },
   "outputs": [
    {
     "data": {
      "text/plain": [
       "True"
      ]
     },
     "execution_count": 43,
     "metadata": {},
     "output_type": "execute_result"
    }
   ],
   "source": [
    "import re\n",
    "s = \"yes, i'm searching for a 4 star rated places to stay in town. it does not need to have any internet connection but parking \"\n",
    "\"internet\" in re.split(',|\\.| but | although ', s)[2]"
   ]
  },
  {
   "cell_type": "code",
   "execution_count": 44,
   "metadata": {
    "id": "511jeXTx3QwO"
   },
   "outputs": [],
   "source": [
    "import string\n",
    "def predict_internet(utterance, establishment, filter=[]):\n",
    "    \n",
    "    # utterance = utterance.lower().translate(str.maketrans(\"\",\"\",string.punctuation))\n",
    "    \n",
    "    for f in filter:\n",
    "        utterance = utterance.replace(f, \"XXXX\")\n",
    "\n",
    "    utterance = utterance.lower()\n",
    "    utt = re.split(',|\\.| but | although ', utterance)#utterance.strip().split(\" \")\n",
    "    \n",
    "    \n",
    "    internets = [\"internet\", \"wifi\", \"wi-fi\", \"wi fi\"]\n",
    "    negation = [\"not\", \"isn't\", \"is not\", \"don't\", \"do not\", \"hate\", \" no \", \"without\", \"dont\", \"doesn't\", \"doesnt\"]\n",
    "    dont_care = [\"care\", \"need\", \"necessary\", \"necessity\"]\n",
    "    \n",
    "    for i in internets:\n",
    "      for u in utt:\n",
    "        if i in u:\n",
    "          for r in negation:\n",
    "            if r in u:\n",
    "              for c in dont_care:\n",
    "                if c in u:\n",
    "                  return f\"{establishment}-internet=dontcare\"\n",
    "              return f\"{establishment}-internet=no\"\n",
    "          return f\"{establishment}-internet=yes\"\n",
    "    \n",
    "    \n",
    "    return \"\""
   ]
  },
  {
   "cell_type": "code",
   "execution_count": 45,
   "metadata": {
    "colab": {
     "base_uri": "https://localhost:8080/"
    },
    "id": "uIB62mlRK5Mq",
    "outputId": "0272ed69-b572-42ef-9f37-e170adebf70a"
   },
   "outputs": [
    {
     "name": "stdout",
     "output_type": "stream",
     "text": [
      "I am looking for a place to stay. The hotel should be in the type of guesthouse and doesn't need to include internet\n",
      "['hotel-type=guesthouse']\n",
      "DETECTION hotel-internet=dontcare\n",
      "I need a place to stay that doesn't have to have internet and is in the expensive price range please.\n",
      "['hotel-pricerange=expensive']\n",
      "DETECTION hotel-internet=dontcare\n",
      "Yes, I'm looking to stay at a guesthouse while I'm in town. I don't need internet access, so don't worry about that.\n",
      "['hotel-type=guesthouse']\n",
      "DETECTION hotel-internet=dontcare\n",
      "Hi. I'm looking for a place to spend the night, and I want somewhere without any hidden fees for parking or wifi.\n",
      "['hotel-internet=yes', 'hotel-parking=yes']\n",
      "DETECTION hotel-internet=no\n",
      "I am looking for a hotel near the mall. The hotel should has free indoor parking, even it doesn't include internet.\n",
      "['hotel-internet=dontcare', 'hotel-parking=yes']\n",
      "DETECTION hotel-internet=no\n",
      "Are there any hotels where the wifi doesn't cost extra?\n",
      "['hotel-internet=yes']\n",
      "DETECTION hotel-internet=no\n",
      "I'm looking for a hotel in the east, and it doesn't need to include internet.\n",
      "['hotel-area=east']\n",
      "DETECTION hotel-internet=dontcare\n",
      "I'm looking for a place to stay that provides wifi without any extra charges. Can you find something like that for me?\n",
      "['hotel-internet=yes']\n",
      "DETECTION hotel-internet=no\n",
      "Hi. I'm looking for a hotel in the east. The internet is not needed.\n",
      "['hotel-area=east', 'hotel-internet=no']\n",
      "DETECTION hotel-internet=dontcare\n",
      "Can you give me info on four start places, It doesn;t matter if they have free wifi or not.\n",
      "['hotel-internet=dontcare', 'hotel-stars=4']\n",
      "DETECTION hotel-internet=no\n",
      "Can you help me find a place to stay that includes free wifi and doesn't need to have free parking?\n",
      "['hotel-internet=yes', 'hotel-parking=dontcare']\n",
      "DETECTION hotel-internet=dontcare\n",
      "I would like a hotel while in cambridge. It doesn't need parking or internet.\n",
      "['hotel-internet=no', 'hotel-parking=no']\n",
      "DETECTION hotel-internet=dontcare\n",
      "Are there any 3-star hotels, guesthouses, or B&B's that have wifi that you don't have to pay for?\n",
      "['hotel-internet=yes', 'hotel-stars=3', 'hotel-type=dontcare']\n",
      "DETECTION hotel-internet=no\n",
      "Hello I am looking for a hotel on the west side of town. I'm not picky about wi-fi.\n",
      "['hotel-area=west', 'hotel-internet=dontcare']\n",
      "DETECTION hotel-internet=no\n",
      "I'm looking for a 4-star place to stay, it doesn't need to include internet.\n",
      "['hotel-stars=4']\n",
      "DETECTION hotel-internet=dontcare\n",
      "Hello, i'm looking for a cheap hotel in the cambridge area close to local attractions. I don't need internet or parking. Can you help?\n",
      "['hotel-pricerange=cheap']\n",
      "DETECTION hotel-internet=dontcare\n",
      "I'm looking for a hotel in the expensive price range. Internet is not necessary.\n",
      "['hotel-pricerange=expensive']\n",
      "DETECTION hotel-internet=dontcare\n",
      "Hi I am looking to find a guesthouse to stay at and it does not need to have internet.\n",
      "['hotel-internet=no', 'hotel-type=guesthouse']\n",
      "DETECTION hotel-internet=dontcare\n",
      "I want a place to stay. Is there an expensive hotel? It doesn't need to include internet.\n",
      "['hotel-internet=no', 'hotel-pricerange=expensive']\n",
      "DETECTION hotel-internet=dontcare\n",
      "I need to find a place to stay in town with atleast a 4 star rating. Wifi optional.\n",
      "['hotel-internet=dontcare', 'hotel-stars=4']\n",
      "DETECTION hotel-internet=yes\n",
      "I'm looking for a hotel with a 4 star rating to stay at and I don't need to have internet. Can you help?\n",
      "['hotel-internet=no', 'hotel-stars=4']\n",
      "DETECTION hotel-internet=dontcare\n",
      "I'm looking for a hotel in the west, internet is optional.\n",
      "['hotel-area=west', 'hotel-internet=dontcare']\n",
      "DETECTION hotel-internet=yes\n",
      "I am looking for a place to stay. The hotel doesn't need to include internet and should have a star of 4\n",
      "['hotel-internet=no', 'hotel-stars=4']\n",
      "DETECTION hotel-internet=dontcare\n",
      "I am looking for a place with free parking, Internet is not required.\n",
      "['hotel-internet=dontcare', 'hotel-parking=yes']\n",
      "DETECTION hotel-internet=no\n",
      "I need lodging in Cambridge that has free parking. I don't need internet, though. What have you got?\n",
      "['hotel-parking=yes']\n",
      "DETECTION hotel-internet=dontcare\n",
      "i am looking for a place to stay. The hotel doesn't need to include internet and should include free parking.\n",
      "['hotel-parking=yes']\n",
      "DETECTION hotel-internet=dontcare\n",
      "I need to find a place to stay that includes free wifi and doesn't need to have free parking.\n",
      "['hotel-internet=yes', 'hotel-parking=dontcare']\n",
      "DETECTION hotel-internet=dontcare\n",
      "I sure could use a nice hotel to stay in. Can you find me one in the east? I don't need free WiFi.\n",
      "['hotel-area=east', 'hotel-internet=no']\n",
      "DETECTION hotel-internet=dontcare\n",
      "Hi, I am looking for a nice hotel to stay in. I would like it to include free parking. Internet access is not necessary.\n",
      "['hotel-internet=no', 'hotel-parking=yes', 'hotel-pricerange=expensive']\n",
      "DETECTION hotel-internet=dontcare\n",
      "While on my trip to Cambridge I need a hotel, and it is not important for it to have internet.\n",
      "['hotel-internet=dontcare']\n",
      "DETECTION hotel-internet=no\n",
      "I need to find a place to stay while in Cambridge, I do not need it to have internet but I do need it to have free parking.\n",
      "['hotel-internet=no', 'hotel-parking=yes']\n",
      "DETECTION hotel-internet=dontcare\n",
      "i want a place to stay in Cambridge the is moderate price no wifi\n",
      "['hotel-internet=yes', 'hotel-pricerange=moderate']\n",
      "DETECTION hotel-internet=no\n",
      "Hi, I need to find a hotel to stay at. It doesn't need to have wifi.\n",
      "[]\n",
      "DETECTION hotel-internet=dontcare\n",
      "3727\n",
      "33\n"
     ]
    }
   ],
   "source": [
    "correct = 0\n",
    "incorrect = 0\n",
    "\n",
    "for utt, ans, cat in list(zip(train, train_facility, train_category)):\n",
    "    # print(ans)\n",
    "    if (\"-internet\" in \" \".join(ans) and predict_internet(utt, cat.split(\"_\")[1]) in \" \".join(ans)) or (\"-internet\" not in \" \".join(ans) and predict_internet(utt, cat.split(\"_\")[1]) == \"\"):\n",
    "        correct += 1\n",
    "    else:\n",
    "        print(utt)\n",
    "        print(ans)\n",
    "        print(f'DETECTION {predict_internet(utt, cat.split(\"_\")[1])}')\n",
    "        incorrect += 1\n",
    "        \n",
    "        \n",
    "print(correct)\n",
    "print(incorrect)"
   ]
  },
  {
   "cell_type": "code",
   "execution_count": 46,
   "metadata": {
    "id": "MEvIJ8888zHW"
   },
   "outputs": [],
   "source": [
    "def predict_parking(utterance, establishment, filter=[]):\n",
    "    \n",
    "    # utterance = utterance.lower().translate(str.maketrans(\"\",\"\",string.punctuation))\n",
    "    \n",
    "    for f in filter:\n",
    "        utterance = utterance.replace(f, \"XXXX\")\n",
    "    \n",
    "    # utt = utterance\n",
    "    # parkings = [\"parking\", \"parkin\", \"pakring\", \"park\"]\n",
    "    # dont_care = [\"doesnt need\", \"dont care\", \"not necessary\", \"does not need\", \"do not care\"]\n",
    "    # refuses = [\"dont\", \"don't\",\"dont need\", \"doesn't\", \"doesnt\", \"dont\", \"not\"]\n",
    "    \n",
    "    # for p in parkings:\n",
    "    #   if p in utt.strip().split(\" \"):\n",
    "    #     for r in dont_care:\n",
    "    #       if r in utt and ((utt.index(p) - utt.index(r)) > 0 and len(utt[utt.index(r) : utt.index(p)].split(' ')) <8 or (utt.index(p) - utt.index(r)) <= 0 and len(utt[utt.index(p) : utt.index(r)].split(' ')) <8) :\n",
    "    #         return f\"{establishment}-parking=dontcare\"\n",
    "    #     for r in refuses:\n",
    "    #       if r in utt and ((utt.index(p) - utt.index(r)) > 0 and len(utt[utt.index(r) : utt.index(p)].split(' ')) <8 or (utt.index(p) - utt.index(r)) <= 0 and len(utt[utt.index(p) : utt.index(r)].split(' ')) <8) :\n",
    "    #         return f\"{establishment}-parking=no\"\n",
    "    #     return f\"{establishment}-parking=yes\"\n",
    "    utterance = utterance.lower()\n",
    "    utt = re.split(',|\\.| but | although ', utterance)#utterance.strip().split(\" \")\n",
    "    \n",
    "    \n",
    "    parkings = [\"parking\", \"parkin\", \"pakring\", \"park\"]\n",
    "    negation = [\"not\", \"don't\", \"do not\", \" no \", \"without\", \"dont\", \"doesn't\", \"doesnt\"]\n",
    "    dont_care = [\"care\", \"necessary\", \"necessity\", \"need\"]\n",
    "    \n",
    "    for i in parkings:\n",
    "      for u in utt:\n",
    "        if i in u:\n",
    "          for r in negation:\n",
    "            if r in u:\n",
    "              for c in dont_care:\n",
    "                if c in u:\n",
    "                  return f\"{establishment}-parking=dontcare\"\n",
    "              return f\"{establishment}-parking=no\"\n",
    "          return f\"{establishment}-parking=yes\"\n",
    "    \n",
    "    \n",
    "    return \"\"\n",
    "    \n"
   ]
  },
  {
   "cell_type": "code",
   "execution_count": 47,
   "metadata": {
    "colab": {
     "base_uri": "https://localhost:8080/"
    },
    "id": "a-bNwsEkR-Q3",
    "outputId": "ddf9d93d-ea85-44f2-c292-8afd30b3b5ca"
   },
   "outputs": [
    {
     "name": "stdout",
     "output_type": "stream",
     "text": [
      "Hi. I'm looking for a place to spend the night, and I want somewhere without any hidden fees for parking or wifi.\n",
      "['hotel-internet=yes', 'hotel-parking=yes']\n",
      "DETECTION hotel-parking=no\n",
      "Hi I need a hotel that is in the east. I don't need free parking.\n",
      "['hotel-area=east', 'hotel-parking=no']\n",
      "DETECTION hotel-parking=dontcare\n",
      "Hello, I'm looking for a hotel that is cheap. It doesn't need to have free parking.\n",
      "['hotel-parking=no', 'hotel-pricerange=cheap']\n",
      "DETECTION hotel-parking=dontcare\n",
      "Can you help me find a place to stay that has free parking? It doesn't need to include internet.\n",
      "['hotel-area=dontcare', 'hotel-internet=dontcare', 'hotel-name=dontcare', 'hotel-parking=yes', 'hotel-type=dontcare']\n",
      "DETECTION hotel-parking=dontcare\n",
      "I'm looking for a place to stay. I need to find free parking and I only want to stay in a hotel and not any thing else other than that.\n",
      "['hotel-parking=yes']\n",
      "DETECTION hotel-parking=dontcare\n",
      "Can you help me find a place to stay? I am looking for an expensive hotel, but it doesn't need free parking.\n",
      "['hotel-parking=no', 'hotel-pricerange=expensive']\n",
      "DETECTION hotel-parking=dontcare\n",
      "I need a place to stay in Cambridge that is a 2 star hotel with or without free parking.\n",
      "['hotel-parking=no', 'hotel-stars=2']\n",
      "DETECTION hotel-parking=dontcare\n",
      "I would like a hotel while in cambridge. It doesn't need parking or internet.\n",
      "['hotel-internet=no', 'hotel-parking=no']\n",
      "DETECTION hotel-parking=dontcare\n",
      "I need a hotel, parking doesn't matter to me though.\n",
      "['hotel-parking=dontcare']\n",
      "DETECTION hotel-parking=no\n",
      "Yes I am looking for a hotel on the North side of town. I am not needing parking.\n",
      "['hotel-area=north', 'hotel-parking=no']\n",
      "DETECTION hotel-parking=dontcare\n",
      "I'm looking for a guesthouse. But I won't have a car with me, so I don't need any rigamarole with \"free\" parking.\n",
      "['hotel-parking=no', 'hotel-type=guesthouse']\n",
      "DETECTION hotel-parking=dontcare\n",
      "I want to find a hotel in the moderate price range. I don't need free parking.\n",
      "['hotel-parking=no', 'hotel-pricerange=moderate']\n",
      "DETECTION hotel-parking=dontcare\n",
      "Hello, i'm looking for a cheap hotel in the cambridge area close to local attractions. I don't need internet or parking. Can you help?\n",
      "['hotel-pricerange=cheap']\n",
      "DETECTION hotel-parking=dontcare\n",
      "Place to stay the night, with free parking and it doesn't need free wifi.\n",
      "['hotel-internet=dontcare', 'hotel-parking=yes']\n",
      "DETECTION hotel-parking=dontcare\n",
      "I would like some information on places to stay in Cambridge. I prefer a guesthouse that includes free wifi, parking does not matter.\n",
      "['hotel-internet=yes', 'hotel-parking=dontcare', 'hotel-type=guesthouse']\n",
      "DETECTION hotel-parking=no\n",
      "I'm hoping you can help me find a guesthouse. Parking is optional.\n",
      "['hotel-parking=dontcare', 'hotel-type=guesthouse']\n",
      "DETECTION hotel-parking=yes\n",
      "I need a place to stay with free wifi but I don't need free parking, thank you.\n",
      "['hotel-internet=yes', 'hotel-parking=no']\n",
      "DETECTION hotel-parking=dontcare\n",
      "i need a plcae to stay with free parking no interned is needed\n",
      "['hotel-internet=dontcare', 'hotel-parking=yes']\n",
      "DETECTION hotel-parking=dontcare\n",
      "I want to find a place to stay with free wifi. It doesn't have to have free parking though.\n",
      "['hotel-internet=yes', 'hotel-parking=dontcare']\n",
      "DETECTION hotel-parking=no\n",
      "I'm looking for moderately priced rooms. I'm willing to pay for parking, though.\n",
      "['hotel-parking=dontcare', 'hotel-pricerange=moderate']\n",
      "DETECTION hotel-parking=yes\n",
      "I'm looking for a place to stay. It needs to be in the north but it doesn't have to have free parking.\n",
      "['hotel-area=north', 'hotel-parking=dontcare']\n",
      "DETECTION hotel-parking=no\n",
      "I'm looking for a hotel in the west area. It doesn't need to have free parking.\n",
      "['hotel-area=west', 'hotel-parking=no']\n",
      "DETECTION hotel-parking=dontcare\n",
      "i am looking for a place to stay. The hotel doesn't need to include internet and should include free parking.\n",
      "['hotel-parking=yes']\n",
      "DETECTION hotel-parking=dontcare\n",
      "I'm looking for a hotel that includes free wifi, but it doesn't need to have free parking.\n",
      "['hotel-internet=yes', 'hotel-parking=no']\n",
      "DETECTION hotel-parking=dontcare\n",
      "I am looking for a place to stay that is expensive, I am not worried if I pay to pay for parking.\n",
      "['hotel-parking=dontcare', 'hotel-pricerange=expensive']\n",
      "DETECTION hotel-parking=no\n",
      "I'm looking for a 4 star hotel, and it doesn't need to have free parking.\n",
      "['hotel-parking=yes', 'hotel-stars=4']\n",
      "DETECTION hotel-parking=dontcare\n",
      "Could you please find me somewhere to stay? I need a moderately priced hotel but I'm not fussy about parking\n",
      "['hotel-parking=dontcare', 'hotel-pricerange=moderate']\n",
      "DETECTION hotel-parking=no\n",
      "Hi I am looking for a place to stay that has free parking and does not need to include wifi.\n",
      "['hotel-internet=dontcare', 'hotel-parking=yes']\n",
      "DETECTION hotel-parking=dontcare\n",
      "I am looking a hotel to stay in. Could you find me one on the more expensive side? But it doesn't need free parking.\n",
      "['hotel-parking=no', 'hotel-pricerange=expensive']\n",
      "DETECTION hotel-parking=dontcare\n",
      "I need a hotel. It needs to be a three star and I don't need parking. Can you find me accommodations?\n",
      "['hotel-parking=no', 'hotel-stars=3']\n",
      "DETECTION hotel-parking=dontcare\n",
      "Hi! I am looking for a place to stay that has free wifi. The hotel doesn't have to have free parking but that would be nice.\n",
      "['hotel-internet=yes', 'hotel-parking=yes']\n",
      "DETECTION hotel-parking=no\n",
      "I'm looking for a guesthouse to stay in and I don't need a free parking.\n",
      "['hotel-parking=no', 'hotel-type=guesthouse']\n",
      "DETECTION hotel-parking=dontcare\n",
      "Can you help me find a place to stay in the moderate price range. It doesn't need parking.\n",
      "['hotel-pricerange=moderate']\n",
      "DETECTION hotel-parking=dontcare\n",
      "I need a hotel with free wifi but I don't need free parking.\n",
      "['hotel-internet=yes', 'hotel-parking=no']\n",
      "DETECTION hotel-parking=dontcare\n",
      "I'm looking for some lodging. Are there any 3-star accommodations where you don't have to pay for parking?\n",
      "['hotel-parking=yes', 'hotel-stars=3']\n",
      "DETECTION hotel-parking=no\n",
      "I need to book a place to stay with a star of 4. I don't need free parking.\n",
      "['hotel-stars=4']\n",
      "DETECTION hotel-parking=dontcare\n",
      "I am looking for a place to stay that is expensive, I am not worried if I pay to pay for parking.\n",
      "['hotel-parking=dontcare', 'hotel-pricerange=expensive']\n",
      "DETECTION hotel-parking=no\n",
      "I am looking for a place to stay. The hotel doesn't need to have free parking and should be in the north\n",
      "['hotel-area=north']\n",
      "DETECTION hotel-parking=dontcare\n",
      "I'm looking for a 3 star rated place to stay at that doesn't need to have free parking\n",
      "['hotel-parking=no', 'hotel-stars=3']\n",
      "DETECTION hotel-parking=dontcare\n",
      "3721\n",
      "39\n"
     ]
    }
   ],
   "source": [
    "correct = 0\n",
    "incorrect = 0\n",
    "x=0\n",
    "for utt, ans, cat in list(zip(train, train_facility, train_category)):\n",
    "\n",
    "    # if (\"-parking=dont\" in \" \".join(ans)):\n",
    "        # x += 1\n",
    "        # print(x)\n",
    "        # print(utt)\n",
    "        # print(ans)\n",
    "    if (\"-parking\" in \" \".join(ans) and predict_parking(utt, cat.split(\"_\")[1]) in \" \".join(ans)) or (\"-parking\" not in \" \".join(ans) and predict_parking(utt, cat.split(\"_\")[1]) == \"\"):\n",
    "        correct += 1\n",
    "    else:\n",
    "        print(utt)\n",
    "        print(ans)\n",
    "        print(f'DETECTION {predict_parking(utt, cat.split(\"_\")[1])}')\n",
    "        incorrect += 1\n",
    "        \n",
    "        \n",
    "print(correct)\n",
    "print(incorrect)"
   ]
  },
  {
   "cell_type": "code",
   "execution_count": 48,
   "metadata": {
    "id": "xmgR0-wl89-P"
   },
   "outputs": [],
   "source": [
    "\n",
    "def predict_type(utterance, establishment, filter=[]):\n",
    "    \n",
    "    utterance = utterance.lower().translate(str.maketrans(\"\",\"\",string.punctuation))\n",
    "    \n",
    "    for f in filter:\n",
    "        utterance = utterance.replace(f, \"XXXX\")\n",
    "\n",
    "    utt = utterance.strip().split(\" \")\n",
    "\n",
    "    dont_care = [\"doesn't matter\", \"don't care\", \"dont care\"]\n",
    "    types = [\"guesthouse\", \"guest\", \"Guest\", \"guesthouses\"]\n",
    "    refuses = [\"dont\", \"don't\", \"doesn't\", \"doesnt\", \"not\"]\n",
    "    maybes = [\"maybe\", \"care\"]\n",
    "\n",
    "\n",
    "    for t in types:\n",
    "      if t in utt:\n",
    "        for r in dont_care:\n",
    "          if r in utt and utt.index(t) - utt.index(r) <= 3:\n",
    "            return f\"{establishment}-type=dontcare\"\n",
    "        for r in refuses:\n",
    "          if r in utt and utt.index(t) - utt.index(r) <= 3:\n",
    "            return \"\"\n",
    "        return f\"{establishment}-type=guesthouse\"\n",
    "    \n",
    "    \n",
    "    return \"\""
   ]
  },
  {
   "cell_type": "code",
   "execution_count": 49,
   "metadata": {
    "colab": {
     "base_uri": "https://localhost:8080/"
    },
    "id": "M1DHJ8v29Nme",
    "outputId": "00ea774c-24e7-4e23-a02a-b5852683aafe"
   },
   "outputs": [
    {
     "name": "stdout",
     "output_type": "stream",
     "text": [
      "I am looking for a hotel named alyesbray lodge guest house.\n",
      "['hotel-name=alyesbray lodge guest house']\n",
      "DETECTION hotel-type=guesthouse\n",
      "I am looking for a guesthouse that has free parking.\n",
      "['hotel-parking=yes']\n",
      "DETECTION hotel-type=guesthouse\n",
      "I'm looking for a hotel called the a and b guest house. Can you help me out?\n",
      "['hotel-name=a and b guest house']\n",
      "DETECTION hotel-type=guesthouse\n",
      "I am looking for a hotel call arbury lodge guesthouse.\n",
      "['hotel-name=arbury lodge guesthouse']\n",
      "DETECTION hotel-type=guesthouse\n",
      "Yes, could you please tell me about the Alpha-Milton guest house?\n",
      "['hotel-name=alpha-milton guest house']\n",
      "DETECTION hotel-type=guesthouse\n",
      "I am looking to get some information on the acorn guest house.\n",
      "['hotel-name=acorn guest house']\n",
      "DETECTION hotel-type=guesthouse\n",
      "I need a place to stay in Cambridge. It should be either a hotel or guesthouse with 1 star and moderate price range. Can you help me with that?\n",
      "['hotel-stars=1']\n",
      "DETECTION hotel-type=guesthouse\n",
      "Can you help me find the a and b guest house hotel?\n",
      "['hotel-name=a and b guest house']\n",
      "DETECTION hotel-type=guesthouse\n",
      "i am looking for a particular hotel. Its name is called aylesbray lodge guest house.\n",
      "['hotel-name=aylesbray lodge guest house']\n",
      "DETECTION hotel-type=guesthouse\n",
      "Hi, I'm looking for the Bridge Guest House. Can you give the information about it please?\n",
      "['hotel-name=bridge guest house']\n",
      "DETECTION hotel-type=guesthouse\n",
      "Could you help me locate the Alpha Milton Guest House?\n",
      "['hotel-name=alpha milton guest house']\n",
      "DETECTION hotel-type=guesthouse\n",
      "I'm looking for a hotel called acorn guest house\n",
      "['hotel-name=acorn guest house']\n",
      "DETECTION hotel-type=guesthouse\n",
      "Is the alpha-milton guest house still in operation?\n",
      "['hotel-name=alpha-milton guest house']\n",
      "DETECTION hotel-type=guesthouse\n",
      "I am looking for a particular hotel. Its name is called arbury lodge guesthouse\n",
      "['hotel-name=arbury lodge guesthouse']\n",
      "DETECTION hotel-type=guesthouse\n",
      "I am trying to find the Acorn Guest House.\n",
      "['hotel-name=acorn guest house']\n",
      "DETECTION hotel-type=guesthouse\n",
      "I'm looking for a place, I think it's called the Arbury Guesthouse and Lodge. Can you help me?\n",
      "['hotel-name=arbury guesthouse and lodge']\n",
      "DETECTION hotel-type=guesthouse\n",
      "Can I get some information on the arbury lodge guesthouse?\n",
      "['hotel-name=arbury lodge guesthouse']\n",
      "DETECTION hotel-type=guesthouse\n",
      "Do you have any information on a hotel called the Acorn Guesthouse?\n",
      "['hotel-name=acorn guest house']\n",
      "DETECTION hotel-type=guesthouse\n",
      "I am looking for a hotel called the alpha-milton guest house.\n",
      "['hotel-name=alpha-milton guest house']\n",
      "DETECTION hotel-type=guesthouse\n",
      "I am looking for a moderately priced hotel to stay at in the area, no guesthouses please.\n",
      "['hotel-pricerange=moderate']\n",
      "DETECTION hotel-type=guesthouse\n",
      "Hi I am looking to get some info on the aylesbray lodge guest house\n",
      "['hotel-name=aylesbray lodge guest house']\n",
      "DETECTION hotel-type=guesthouse\n",
      "Can you give me some information on the Alpha Milton guesthouse?\n",
      "['hotel-area=north', 'hotel-name=alpha-milton guest house']\n",
      "DETECTION hotel-type=guesthouse\n",
      "I am looking for a hotel called a and b guest house.\n",
      "['hotel-name=a and b guest house']\n",
      "DETECTION hotel-type=guesthouse\n",
      "I want to find out more about the arbury guesthouse.\n",
      "['hotel-name=arbury lodge guesthouse']\n",
      "DETECTION hotel-type=guesthouse\n",
      "I am interested in staying at the A and B Guest House, could you help me book my stay?\n",
      "['hotel-name=a and b guest house']\n",
      "DETECTION hotel-type=guesthouse\n",
      "looking for arbury lodge guesthouse\n",
      "['hotel-name=arbury lodge guesthouse']\n",
      "DETECTION hotel-type=guesthouse\n",
      "I am looking for a hotel called alpha-milton guest house\n",
      "['hotel-name=alpha-milton guest house']\n",
      "DETECTION hotel-type=guesthouse\n",
      "I am looking for a hotel called Aylesbray Lodge Guest House.\n",
      "['hotel-name=aylesbray lodge guest house']\n",
      "DETECTION hotel-type=guesthouse\n",
      "Could you give me information on a hotel called alpha-milton guest house?\n",
      "['hotel-name=alpha-milton guest house']\n",
      "DETECTION hotel-type=guesthouse\n",
      "Hi, I am looking for a 4 star hotel or guesthouse that includes free wifi. Can you help me?\n",
      "['hotel-internet=yes', 'hotel-stars=4']\n",
      "DETECTION hotel-type=guesthouse\n",
      "Hello! I am looking for information about a hotel called aylesbray lodge guest house. Can you help me?\n",
      "['hotel-name=aylesbray lodge guest house']\n",
      "DETECTION hotel-type=guesthouse\n",
      "Hello, I'm planning my trip to cambridge, and I'm trying to find a hotel called alpha-milton guest house. Can you help?\n",
      "['hotel-name=alpha-milton guest house']\n",
      "DETECTION hotel-type=guesthouse\n",
      "Hi there. I'm looking for a particular hotel called the A and B Guest House.\n",
      "['hotel-name=a and b guest house']\n",
      "DETECTION hotel-type=guesthouse\n",
      "I need some tourist information please. I need to know about a hotel called the arbury lodge guest house.\n",
      "['hotel-name=arbury lodge']\n",
      "DETECTION hotel-type=guesthouse\n",
      "I am looking for information on a place called Bridge Guest House. Can you help me?\n",
      "['hotel-name=bridge guest house']\n",
      "DETECTION hotel-type=guesthouse\n",
      "Hello, I would like some information on a hotel called The Bridge guest house, please.\n",
      "['hotel-name=bridge guest house']\n",
      "DETECTION hotel-type=guesthouse\n",
      "I need some info on the acorn guest house.\n",
      "['hotel-name=acorn guest house']\n",
      "DETECTION hotel-type=guesthouse\n",
      "I am going to visit and was told about the a and b guest house. Could you help me with that?\n",
      "['hotel-name=a and b guest house']\n",
      "DETECTION hotel-type=guesthouse\n",
      "Can you get me information on a hotel called a and b guest house?\n",
      "['hotel-name=a and b guest house']\n",
      "DETECTION hotel-type=guesthouse\n",
      "Hi, I'm looking for a hotel by the name of Acorn Guest House.\n",
      "['hotel-name=acorn guest house']\n",
      "DETECTION hotel-type=guesthouse\n",
      "I am looking for the acorn guest house.\n",
      "['hotel-name=acorn guest house']\n",
      "DETECTION hotel-type=guesthouse\n",
      "I'm looking to get some information on the alpha-milton guest house\n",
      "['hotel-name=alpha-milton guest house']\n",
      "DETECTION hotel-type=guesthouse\n",
      "I need information on the Aylesbray Lodge Guest House, please.\n",
      "['hotel-name=aylesbray lodge guest house']\n",
      "DETECTION hotel-type=guesthouse\n",
      "Can you help me find Arbury Lodge Guesthouse? Thanks.\n",
      "['hotel-name=arbury lodge guesthouse']\n",
      "DETECTION hotel-type=guesthouse\n",
      "Can you help me find a hotel called Bridge Guest House?\n",
      "['hotel-name=bridge guest house']\n",
      "DETECTION hotel-type=guesthouse\n",
      "Can you find the A & B Guesthouse?\n",
      "['hotel-name=b guesthouse']\n",
      "DETECTION hotel-type=guesthouse\n",
      "I am looking for a hotel, the Alpha-Milton Guest House.\n",
      "['hotel-name=alpha-milton guest house']\n",
      "DETECTION hotel-type=guesthouse\n",
      "I would like to get information on the bridge guest house.\n",
      "['hotel-name=bridge guest house']\n",
      "DETECTION hotel-type=guesthouse\n",
      "Yes, I am searching for a hotel named the Aylesbray Lodge Guest House?\n",
      "['hotel-name=aylesbray lodge guest house']\n",
      "DETECTION hotel-type=guesthouse\n",
      "Hi there. Can you tell me if you have any information on the Bridge Guest House?\n",
      "['hotel-name=bridge guest house']\n",
      "DETECTION hotel-type=guesthouse\n",
      "I am looking for a hotel, the Alpha-Milton Guest House.\n",
      "['hotel-name=alpha-milton guest house']\n",
      "DETECTION hotel-type=guesthouse\n",
      "Hi there. I was wondering if you could provide some information on the Bridge Guest House hotel.\n",
      "['hotel-name=bridge guest house']\n",
      "DETECTION hotel-type=guesthouse\n",
      "I've heard good things about the Acorn guest house. Could you find it for me?\n",
      "['hotel-name=acorn guest house']\n",
      "DETECTION hotel-type=guesthouse\n",
      "I'm planning a trip to Cambridge and need a 4 star place with wifi to stay. It doesn't matter if its a hotel or guesthouse, just 4 star please.\n",
      "['hotel-internet=yes', 'hotel-stars=4', 'hotel-type=dontcare']\n",
      "DETECTION hotel-type=guesthouse\n",
      "Hello. I would like some information about the Aylesbray lodge guest house.\n",
      "['hotel-name=aylesbray lodge guest house']\n",
      "DETECTION hotel-type=guesthouse\n",
      "3705\n",
      "55\n"
     ]
    }
   ],
   "source": [
    "correct = 0\n",
    "incorrect = 0\n",
    "\n",
    "for utt, ans, cat in list(zip(train, train_facility, train_category)):\n",
    "  \n",
    "  \n",
    "    if (\"-type\" in \" \".join(ans) and predict_type(utt, cat.split(\"_\")[1]) in \" \".join(ans)) or (\"-type\" not in \" \".join(ans) and predict_type(utt, cat.split(\"_\")[1]) == \"\"):\n",
    "        correct += 1\n",
    "    else:\n",
    "        print(utt)\n",
    "        print(ans)\n",
    "        print(f'DETECTION {predict_type(utt, cat.split(\"_\")[1])}')\n",
    "        incorrect += 1\n",
    "        \n",
    "        \n",
    "print(correct)\n",
    "print(incorrect)"
   ]
  },
  {
   "cell_type": "code",
   "execution_count": 50,
   "metadata": {
    "id": "syBK7bX20b__"
   },
   "outputs": [],
   "source": [
    "kaggle_ans = []\n",
    "for i,utt in enumerate(test):\n",
    "  line = ''\n",
    "  # print(utt)\n",
    "  intent = test_binary_predictions[i]\n",
    "  line += intent\n",
    "  if(\"restaurant\" in intent):\n",
    "      filter = []\n",
    "      filter.append(food_predictions[i])\n",
    "      filter.append(rest_predictions[i])\n",
    "      if(predict_area(utt,\"restaurant\", filter) != \"\"):\n",
    "          line += \"|\"+predict_area(utt,\"restaurant\")\n",
    "      if(food_predictions[i] != \"[CLS]\"):\n",
    "          line += f\"|restaurant-food={food_predictions[i]}\"\n",
    "      if(rest_predictions[i] != \"[CLS]\"):\n",
    "          line += f\"|restaurant-name={rest_predictions[i]}\"\n",
    "      if(predict_pricerange(utt,\"restaurant\", filter) != \"\"):\n",
    "          line += \"|\"+predict_pricerange(utt,\"restaurant\")\n",
    "  else:\n",
    "      filter = []\n",
    "      filter.append(hotel_predictions[i])\n",
    "      if(predict_area(utt,\"hotel\", filter) != \"\"):\n",
    "          line += \"|\"+predict_area(utt,\"hotel\")\n",
    "      if(predict_internet(utt,\"hotel\", filter) != \"\"):\n",
    "          line += \"|\"+predict_internet(utt,\"hotel\")\n",
    "      if(hotel_predictions[i] != \"[CLS]\"):\n",
    "          line += f\"|hotel-name={hotel_predictions[i]}\"\n",
    "      if(predict_parking(utt,\"hotel\", filter) != \"\"):\n",
    "          line += \"|\"+predict_parking(utt,\"hotel\")\n",
    "      if(predict_pricerange(utt,\"hotel\", filter) != \"\"):\n",
    "          line += \"|\"+predict_pricerange(utt,\"hotel\")\n",
    "      if(predict_stars(utt,\"hotel\", filter) != \"\"):\n",
    "          line += \"|\"+predict_stars(utt,\"hotel\")\n",
    "      if(hotel_predictions[i] == \"[CLS]\" and predict_type(utt,\"hotel\", filter) != \"\"):\n",
    "          line += \"|\"+predict_type(utt,\"hotel\")\n",
    "  kaggle_ans.append(line)"
   ]
  },
  {
   "cell_type": "code",
   "execution_count": 51,
   "metadata": {
    "colab": {
     "base_uri": "https://localhost:8080/"
    },
    "id": "tjagpFdu9Wh-",
    "outputId": "08d058e1-1ac0-4515-a34a-04612ec6104f"
   },
   "outputs": [
    {
     "name": "stdout",
     "output_type": "stream",
     "text": [
      "400\n"
     ]
    }
   ],
   "source": [
    "print(len(kaggle_ans))\n",
    "import csv\n",
    "rows = zip(range(len(kaggle_ans)), kaggle_ans)\n",
    "with open(file_path+'kaggle_tags.csv', \"w\") as f:\n",
    "    writer = csv.writer(f)\n",
    "    writer.writerow(('Id','Expected'))\n",
    "    for row in rows:\n",
    "        writer.writerow(row)"
   ]
  },
  {
   "cell_type": "code",
   "execution_count": 51,
   "metadata": {
    "id": "BRYLyNk3ek1B"
   },
   "outputs": [],
   "source": []
  }
 ],
 "metadata": {
  "accelerator": "GPU",
  "colab": {
   "machine_shape": "hm",
   "name": "563Lab4.ipynb",
   "provenance": []
  },
  "kernelspec": {
   "display_name": "Python 3",
   "language": "python",
   "name": "python3"
  },
  "language_info": {
   "codemirror_mode": {
    "name": "ipython",
    "version": 3
   },
   "file_extension": ".py",
   "mimetype": "text/x-python",
   "name": "python",
   "nbconvert_exporter": "python",
   "pygments_lexer": "ipython3",
   "version": "3.9.5"
  }
 },
 "nbformat": 4,
 "nbformat_minor": 4
}
